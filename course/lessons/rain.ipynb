{
 "cells": [
  {
   "cell_type": "markdown",
   "metadata": {},
   "source": [
    "Задача 1: Удаление гласных\n",
    "Дан список строк. Создайте новый список, в котором из каждой строки удалены все гласные."
   ]
  },
  {
   "cell_type": "code",
   "execution_count": 6,
   "metadata": {},
   "outputs": [
    {
     "name": "stdout",
     "output_type": "stream",
     "text": [
      "['ppl', 'bnn', 'chrry']\n"
     ]
    }
   ],
   "source": [
    "new_words = []\n",
    "for i in [\"apple\", \"banana\", \"cherry\"]:\n",
    "    for j in 'aeiouAEIOU':\n",
    "        i = i.replace(j, '')\n",
    "    new_words.append(i)\n",
    "\n",
    "print(new_words)"
   ]
  },
  {
   "cell_type": "code",
   "execution_count": 7,
   "metadata": {},
   "outputs": [
    {
     "name": "stdout",
     "output_type": "stream",
     "text": [
      "['ppl', 'bnn', 'chrry']\n"
     ]
    }
   ],
   "source": [
    "words = [\"apple\", \"banana\", \"cherry\"]\n",
    "vowels = \"aeiouAEIOU\"\n",
    "\n",
    "result = []\n",
    "for word in words:\n",
    "    filtered_word = [char for char in word if char not in vowels]\n",
    "    result.append(''.join(filtered_word))\n",
    "\n",
    "print(result)"
   ]
  },
  {
   "cell_type": "code",
   "execution_count": 14,
   "metadata": {},
   "outputs": [
    {
     "name": "stdout",
     "output_type": "stream",
     "text": [
      "Гласные буквы: ['Bnn', 'Mng', 'lmty', 'TCBtcmp']\n"
     ]
    }
   ],
   "source": [
    "word = ['Banana', 'Mango', 'Almaty', 'ITCBootcamp']\n",
    "volwes = 'aeiouAEIOU'\n",
    "volwes_list = []\n",
    "\n",
    "for i in word:\n",
    "    vremeniy = []\n",
    "    for j in i:\n",
    "        if j not in volwes:\n",
    "            vremeniy.append(j)\n",
    "    volwes_list.append(\"\".join(vremeniy))\n",
    "    \n",
    "print(f\"Гласные буквы: {volwes_list}\")\n"
   ]
  },
  {
   "cell_type": "markdown",
   "metadata": {},
   "source": [
    "Дан список чисел, создайте новый список, содержащий только числа, которые делятся на 3."
   ]
  },
  {
   "cell_type": "code",
   "execution_count": 18,
   "metadata": {},
   "outputs": [
    {
     "name": "stdout",
     "output_type": "stream",
     "text": [
      "[0, 3, 6]\n",
      "[0, 3, 6]\n"
     ]
    }
   ],
   "source": [
    "print([i for i in range(7) if i % 3 == 0])\n",
    "print(list(filter(lambda x: x % 3 == 0, list(range(7)))))"
   ]
  },
  {
   "cell_type": "markdown",
   "metadata": {},
   "source": [
    "Дан список строк. Создайте словарь, где ключами будут строки, а значениями — их длины."
   ]
  },
  {
   "cell_type": "code",
   "execution_count": 21,
   "metadata": {},
   "outputs": [
    {
     "name": "stdout",
     "output_type": "stream",
     "text": [
      "{'apple': 5, 'banana': 6, 'cherry': 6}\n",
      "{'apple': 5, 'banana': 6, 'cherry': 6}\n",
      "{'c': 5, 'h': 6, 'e': 6}\n"
     ]
    }
   ],
   "source": [
    "print({string: len(string) for string in [\"apple\", \"banana\", \"cherry\"]})\n",
    "\n",
    "strings = [\"apple\", \"banana\", \"cherry\"]\n",
    "string_lengths = {string: len(string) for string in strings}\n",
    "print(string_lengths)\n",
    "\n",
    "strings = [\"apple\", \"banana\", \"cherry\"]\n",
    "string_lengths = {}\n",
    "for string in strings:\n",
    "    string_lengths[string] = len(string)\n",
    "\n",
    "strings = [\"apple\", \"banana\", \"cherry\"]\n",
    "string_lengths = {}\n",
    "i = 0\n",
    "while i < len(strings):\n",
    "    string = strings[i]\n",
    "    string_lengths[string] = len(string)\n",
    "    i += 1\n",
    "\n",
    "print(dict(zip([\"apple\", \"banana\", \"cherry\"], [len(i) for i in [\"apple\", \"banana\", \"cherry\"]])))"
   ]
  },
  {
   "cell_type": "code",
   "execution_count": 24,
   "metadata": {},
   "outputs": [
    {
     "name": "stdout",
     "output_type": "stream",
     "text": [
      "[0, 2, 4, 6, 8, 10, 12, 14, 16, 18]\n"
     ]
    }
   ],
   "source": [
    "print([i for i in range(20) if i % 2 == 0]) "
   ]
  }
 ],
 "metadata": {
  "kernelspec": {
   "display_name": "Python 3",
   "language": "python",
   "name": "python3"
  },
  "language_info": {
   "codemirror_mode": {
    "name": "ipython",
    "version": 3
   },
   "file_extension": ".py",
   "mimetype": "text/x-python",
   "name": "python",
   "nbconvert_exporter": "python",
   "pygments_lexer": "ipython3",
   "version": "3.12.6"
  }
 },
 "nbformat": 4,
 "nbformat_minor": 2
}
