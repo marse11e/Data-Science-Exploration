{
 "cells": [
  {
   "cell_type": "code",
   "execution_count": 2,
   "metadata": {},
   "outputs": [
    {
     "name": "stdout",
     "output_type": "stream",
     "text": [
      "{'name': 'Marselle', 'age': 21, 'city': 'Paris'}\n"
     ]
    }
   ],
   "source": [
    "my_dict_1 = dict(name=\"Marselle\", age=21, city=\"Paris\")\n",
    "\n",
    "my_dict = {\n",
    "    \"name\": \"Marselle\",\n",
    "    \"age\": 21,\n",
    "    \"city\": \"Paris\",\n",
    "}\n",
    "\n",
    "print(my_dict_1)"
   ]
  },
  {
   "attachments": {
    "image.png": {
     "image/png": "[encoded data removed]"
    }
   },
   "cell_type": "markdown",
   "metadata": {},
   "source": [
    "![image.png](attachment:image.png)"
   ]
  },
  {
   "cell_type": "code",
   "execution_count": 4,
   "metadata": {},
   "outputs": [
    {
     "name": "stdout",
     "output_type": "stream",
     "text": [
      "Marselle\n",
      "Paris\n"
     ]
    }
   ],
   "source": [
    "my_dict_1 = dict(name=\"Marselle\", age=21, city=\"Paris\")\n",
    "\n",
    "print(my_dict_1['name'])\n",
    "\n",
    "print(my_dict_1.get('city', None))"
   ]
  },
  {
   "cell_type": "code",
   "execution_count": 7,
   "metadata": {},
   "outputs": [
    {
     "name": "stdout",
     "output_type": "stream",
     "text": [
      "{'name': 'Marselle Naz', 'age': 21, 'city': 'Paris', 'country': 'France'}\n"
     ]
    }
   ],
   "source": [
    "my_dict_1 = dict(name=\"Marselle\", age=21, city=\"Paris\")\n",
    "\n",
    "my_dict_1[\"name\"] = \"Marselle Naz\"\n",
    "my_dict_1['country'] = \"France\"\n",
    "\n",
    "print(my_dict_1)"
   ]
  },
  {
   "cell_type": "markdown",
   "metadata": {},
   "source": [
    "### clear – очищает словарь:"
   ]
  },
  {
   "cell_type": "code",
   "execution_count": 19,
   "metadata": {},
   "outputs": [
    {
     "name": "stdout",
     "output_type": "stream",
     "text": [
      "{}\n"
     ]
    }
   ],
   "source": [
    "my_dict = {\"a\": 1, \"b\": 2}\n",
    "my_dict.clear()\n",
    "print(my_dict) "
   ]
  },
  {
   "cell_type": "markdown",
   "metadata": {},
   "source": [
    "### copy – возвращает копию словаря:"
   ]
  },
  {
   "cell_type": "code",
   "execution_count": 18,
   "metadata": {},
   "outputs": [
    {
     "name": "stdout",
     "output_type": "stream",
     "text": [
      "{'a': 1, 'b': 2}\n"
     ]
    }
   ],
   "source": [
    "my_dict = {\"a\": 1, \"b\": 2}\n",
    "new_dict = my_dict.copy()\n",
    "print(new_dict)  "
   ]
  },
  {
   "cell_type": "markdown",
   "metadata": {},
   "source": [
    "### fromkeys – создает словарь с ключами из указанного итерируемого объекта и значением по умолчанию:\n"
   ]
  },
  {
   "cell_type": "code",
   "execution_count": 17,
   "metadata": {},
   "outputs": [
    {
     "name": "stdout",
     "output_type": "stream",
     "text": [
      "{'a': 0, 'b': 0, 'c': 0}\n"
     ]
    }
   ],
   "source": [
    "keys = [\"a\", \"b\", \"c\"]\n",
    "my_dict = dict.fromkeys(keys, 0)\n",
    "print(my_dict) "
   ]
  },
  {
   "cell_type": "markdown",
   "metadata": {},
   "source": [
    "### get – возвращает значение по ключу, если ключ существует, иначе возвращает значение по умолчанию:\n"
   ]
  },
  {
   "cell_type": "code",
   "execution_count": 16,
   "metadata": {},
   "outputs": [
    {
     "name": "stdout",
     "output_type": "stream",
     "text": [
      "1\n",
      "0\n"
     ]
    }
   ],
   "source": [
    "my_dict = {\"a\": 1, \"b\": 2}\n",
    "print(my_dict.get(\"a\")) \n",
    "print(my_dict.get(\"c\", 0)) "
   ]
  },
  {
   "cell_type": "markdown",
   "metadata": {},
   "source": [
    "### items – возвращает объект dict_items, содержащий пары ключ-значение:\n"
   ]
  },
  {
   "cell_type": "code",
   "execution_count": 15,
   "metadata": {},
   "outputs": [
    {
     "name": "stdout",
     "output_type": "stream",
     "text": [
      "dict_items([('a', 1), ('b', 2)])\n"
     ]
    }
   ],
   "source": [
    "my_dict = {\"a\": 1, \"b\": 2}\n",
    "print(my_dict.items()) "
   ]
  },
  {
   "cell_type": "markdown",
   "metadata": {},
   "source": [
    "### keys – возвращает объект dict_keys, содержащий ключи словаря:\n"
   ]
  },
  {
   "cell_type": "code",
   "execution_count": 14,
   "metadata": {},
   "outputs": [
    {
     "name": "stdout",
     "output_type": "stream",
     "text": [
      "dict_keys(['a', 'b'])\n"
     ]
    }
   ],
   "source": [
    "my_dict = {\"a\": 1, \"b\": 2}\n",
    "print(my_dict.keys()) "
   ]
  },
  {
   "cell_type": "markdown",
   "metadata": {},
   "source": [
    "### pop – удаляет ключ и возвращает его значение:\n"
   ]
  },
  {
   "cell_type": "code",
   "execution_count": 13,
   "metadata": {},
   "outputs": [
    {
     "name": "stdout",
     "output_type": "stream",
     "text": [
      "1\n",
      "{'b': 2}\n"
     ]
    }
   ],
   "source": [
    "my_dict = {\"a\": 1, \"b\": 2}\n",
    "value = my_dict.pop(\"a\")\n",
    "print(value)  \n",
    "print(my_dict)"
   ]
  },
  {
   "cell_type": "markdown",
   "metadata": {},
   "source": [
    "### popitem – удаляет и возвращает последнюю пару ключ-значение:\n"
   ]
  },
  {
   "cell_type": "code",
   "execution_count": 12,
   "metadata": {},
   "outputs": [
    {
     "name": "stdout",
     "output_type": "stream",
     "text": [
      "('b', 2)\n",
      "{'a': 1}\n"
     ]
    }
   ],
   "source": [
    "my_dict = {\"a\": 1, \"b\": 2}\n",
    "item = my_dict.popitem()\n",
    "print(item)  \n",
    "print(my_dict)  "
   ]
  },
  {
   "cell_type": "markdown",
   "metadata": {},
   "source": [
    "### setdefault – возвращает значение по ключу, если ключ существует, иначе добавляет ключ со значением по умолчанию:\n"
   ]
  },
  {
   "cell_type": "code",
   "execution_count": 11,
   "metadata": {},
   "outputs": [
    {
     "name": "stdout",
     "output_type": "stream",
     "text": [
      "2\n",
      "{'a': 1, 'b': 2}\n"
     ]
    }
   ],
   "source": [
    "my_dict = {\"a\": 1}\n",
    "value = my_dict.setdefault(\"b\", 2)\n",
    "print(value) \n",
    "print(my_dict) "
   ]
  },
  {
   "cell_type": "markdown",
   "metadata": {},
   "source": [
    "### update – обновляет словарь новыми значениями из другого словаря или итерируемого объекта:\n"
   ]
  },
  {
   "cell_type": "code",
   "execution_count": 10,
   "metadata": {},
   "outputs": [
    {
     "name": "stdout",
     "output_type": "stream",
     "text": [
      "{'a': 1, 'b': 2, 'c': 3}\n"
     ]
    }
   ],
   "source": [
    "my_dict = {\"a\": 1}\n",
    "my_dict.update({\"b\": 2, \"c\": 3})\n",
    "print(my_dict) "
   ]
  },
  {
   "cell_type": "markdown",
   "metadata": {},
   "source": [
    "### values – возвращает объект dict_values, содержащий все значения словаря:\n"
   ]
  },
  {
   "cell_type": "code",
   "execution_count": 9,
   "metadata": {},
   "outputs": [
    {
     "name": "stdout",
     "output_type": "stream",
     "text": [
      "dict_values([1, 2])\n"
     ]
    }
   ],
   "source": [
    "my_dict = {\"a\": 1, \"b\": 2}\n",
    "print(my_dict.values()) "
   ]
  },
  {
   "cell_type": "markdown",
   "metadata": {},
   "source": [
    "### Вложенные словари (или nested dict)\n",
    "Вложенные словари (или nested dict) — это словари, где значения некоторых ключей сами являются словарями. Это позволяет организовывать данные более структурированным образом, создавая иерархии и многомерные структуры."
   ]
  },
  {
   "cell_type": "code",
   "execution_count": 21,
   "metadata": {},
   "outputs": [
    {
     "name": "stdout",
     "output_type": "stream",
     "text": [
      "Alice\n",
      "Designer\n"
     ]
    }
   ],
   "source": [
    "nested_dict = {\n",
    "    \"user1\": {\n",
    "        \"name\": \"Alice\",\n",
    "        \"age\": 30,\n",
    "        \"job\": \"Engineer\"\n",
    "    },\n",
    "    \"user2\": {\n",
    "        \"name\": \"Bob\",\n",
    "        \"age\": 25,\n",
    "        \"job\": \"Designer\"\n",
    "    }\n",
    "}\n",
    "\n",
    "print(nested_dict[\"user1\"][\"name\"])\n",
    "print(nested_dict[\"user2\"][\"job\"])\n"
   ]
  },
  {
   "cell_type": "code",
   "execution_count": 22,
   "metadata": {},
   "outputs": [
    {
     "name": "stdout",
     "output_type": "stream",
     "text": [
      "{'this': 2, 'is': 2, 'a': 2, 'test.': 2, 'test': 1, 'only': 1}\n"
     ]
    }
   ],
   "source": [
    "def count_words(sentence):\n",
    "    words = sentence.split()\n",
    "    word_count = {}\n",
    "    for word in words:\n",
    "        word = word.lower()\n",
    "        if word in word_count:\n",
    "            word_count[word] += 1\n",
    "        else:\n",
    "            word_count[word] = 1\n",
    "    return word_count\n",
    "\n",
    "sentence = \"This is a test. This test is only a test.\"\n",
    "print(count_words(sentence))"
   ]
  },
  {
   "cell_type": "code",
   "execution_count": 23,
   "metadata": {},
   "outputs": [
    {
     "name": "stdout",
     "output_type": "stream",
     "text": [
      "{'H': 1, 'e': 1, 'l': 3, 'o': 2, ',': 1, ' ': 1, 'W': 1, 'r': 1, 'd': 1, '!': 1}\n"
     ]
    }
   ],
   "source": [
    "def char_frequency(string):\n",
    "    freq = {}\n",
    "    for char in string:\n",
    "        if char in freq:\n",
    "            freq[char] += 1\n",
    "        else:\n",
    "            freq[char] = 1\n",
    "    return freq\n",
    "\n",
    "print(char_frequency(\"Hello, World!\"))"
   ]
  },
  {
   "cell_type": "code",
   "execution_count": 24,
   "metadata": {},
   "outputs": [
    {
     "name": "stdout",
     "output_type": "stream",
     "text": [
      "{'h': 1, 'e': 1, 'l': 3, 'o': 2, 'w': 1, 'r': 1, 'd': 1}\n"
     ]
    }
   ],
   "source": [
    "def char_frequency(string):\n",
    "    freq = {}\n",
    "\n",
    "    for char in string.replace(\" \", \"\"):\n",
    "       freq[char] = freq.get(char, 0) + 1\n",
    "    return freq\n",
    "\n",
    "print(char_frequency(\"hello world\"))"
   ]
  },
  {
   "cell_type": "code",
   "execution_count": 30,
   "metadata": {},
   "outputs": [
    {
     "name": "stdout",
     "output_type": "stream",
     "text": [
      "1 {'a': 1, 'b': 3, 'c': 4}\n",
      "2 {'a': 1, 'b': 3, 'c': 4}\n"
     ]
    },
    {
     "ename": "TypeError",
     "evalue": "can only concatenate str (not \"int\") to str",
     "output_type": "error",
     "traceback": [
      "\u001b[1;31m---------------------------------------------------------------------------\u001b[0m",
      "\u001b[1;31mTypeError\u001b[0m                                 Traceback (most recent call last)",
      "Cell \u001b[1;32mIn[30], line 24\u001b[0m\n\u001b[0;32m     22\u001b[0m \u001b[38;5;28mprint\u001b[39m(\u001b[38;5;241m1\u001b[39m, merge_dicts(dict1, dict2))\n\u001b[0;32m     23\u001b[0m \u001b[38;5;28mprint\u001b[39m(\u001b[38;5;241m2\u001b[39m, merge_dicts_2(dict1, dict2))\n\u001b[1;32m---> 24\u001b[0m \u001b[38;5;28mprint\u001b[39m(\u001b[38;5;241m3\u001b[39m, \u001b[43mmerge_dicts_3\u001b[49m\u001b[43m(\u001b[49m\u001b[43mdict1\u001b[49m\u001b[43m,\u001b[49m\u001b[43m \u001b[49m\u001b[43mdict2\u001b[49m\u001b[43m)\u001b[49m)\n",
      "Cell \u001b[1;32mIn[30], line 16\u001b[0m, in \u001b[0;36mmerge_dicts_3\u001b[1;34m(dict1, dict2)\u001b[0m\n\u001b[0;32m     13\u001b[0m merged \u001b[38;5;241m=\u001b[39m dict1\u001b[38;5;241m.\u001b[39mcopy()\n\u001b[0;32m     15\u001b[0m \u001b[38;5;28;01mfor\u001b[39;00m key, value \u001b[38;5;129;01min\u001b[39;00m dict2\u001b[38;5;241m.\u001b[39mitems():\n\u001b[1;32m---> 16\u001b[0m    merged[key] \u001b[38;5;241m=\u001b[39m \u001b[43mmerged\u001b[49m\u001b[38;5;241;43m.\u001b[39;49m\u001b[43mget\u001b[49m\u001b[43m(\u001b[49m\u001b[43mkey\u001b[49m\u001b[43m,\u001b[49m\u001b[43m \u001b[49m\u001b[38;5;241;43m0\u001b[39;49m\u001b[43m)\u001b[49m\u001b[43m \u001b[49m\u001b[38;5;241;43m+\u001b[39;49m\u001b[43m \u001b[49m\u001b[43mvalue\u001b[49m\n\u001b[0;32m     17\u001b[0m \u001b[38;5;28;01mreturn\u001b[39;00m merged\n",
      "\u001b[1;31mTypeError\u001b[0m: can only concatenate str (not \"int\") to str"
     ]
    }
   ],
   "source": [
    "def merge_dicts(dict1, dict2):\n",
    "    merged_dict = dict1.copy()\n",
    "    merged_dict.update(dict2)\n",
    "    return merged_dict\n",
    "\n",
    "def merge_dicts_2(*dicts):\n",
    "    merged_dict = {}\n",
    "    for d in dicts:\n",
    "        merged_dict.update(d)\n",
    "    return merged_dict\n",
    "\n",
    "def merge_dicts_3(dict1, dict2):\n",
    "    merged = dict1.copy()\n",
    "\n",
    "    for key, value in dict2.items():\n",
    "       merged[key] = merged.get(key, 0) + value\n",
    "    return merged\n",
    "\n",
    "dict1 = {'a': 1, 'b': 'TypeError'}\n",
    "dict2 = {'b': 3, 'c': 4}\n",
    "\n",
    "print(1, merge_dicts(dict1, dict2))\n",
    "print(2, merge_dicts_2(dict1, dict2))\n",
    "print(3, merge_dicts_3(dict1, dict2))\n"
   ]
  },
  {
   "cell_type": "code",
   "execution_count": 37,
   "metadata": {},
   "outputs": [
    {
     "name": "stdout",
     "output_type": "stream",
     "text": [
      "{'This': 4, 'is': 2, 'a': 1, 'test': 4}\n",
      "{'This': 4, 'is': 2, 'a': 1, 'test': 4}\n"
     ]
    }
   ],
   "source": [
    "def word_lenghts(sentence):\n",
    "    words = sentence.split()\n",
    "    return {word: len(word) for word in words}\n",
    "\n",
    "def word_lenghts_2(sentence):\n",
    "    return dict(map(lambda word: (word, len(word)), sentence.split()))\n",
    "\n",
    "print(word_lenghts('This is a test'))\n",
    "print(word_lenghts_2('This is a test'))"
   ]
  },
  {
   "cell_type": "code",
   "execution_count": 38,
   "metadata": {},
   "outputs": [
    {
     "name": "stdout",
     "output_type": "stream",
     "text": [
      "{1: 'x', 2: 'y', 3: 'z'}\n"
     ]
    }
   ],
   "source": [
    "def invert_dict(d):\n",
    "    return {value: key for key, value in d.items()}\n",
    "\n",
    "print(invert_dict({'x': 1, 'y': 2, 'z': 3}))"
   ]
  },
  {
   "cell_type": "code",
   "execution_count": 41,
   "metadata": {},
   "outputs": [
    {
     "name": "stdout",
     "output_type": "stream",
     "text": [
      "{'name': 'Marselle', 'age': 21}\n",
      "{'name': 'Marselle', 'age': 21}\n",
      "{'name': 'Marselle', 'age': 21}\n"
     ]
    }
   ],
   "source": [
    "def from_list_to_dict(keys, values):\n",
    "    result = {}\n",
    "    for i in range(len(keys)):\n",
    "        result[keys[i]] = values[i]\n",
    "    return result\n",
    "\n",
    "def from_list_to_dict_2(keys, values):\n",
    "    return {keys[i]: values[i] for i in range(len(keys))}\n",
    "\n",
    "def from_list_to_dict_3(keys, values):\n",
    "    return dict(zip(keys, values))\n",
    "\n",
    "keys = ['name', 'age', 'city']\n",
    "values = ['Marselle', 21, 'New York']\n",
    "\n",
    "print(from_list_to_dict(keys, values))\n",
    "print(from_list_to_dict_2(keys, values))\n",
    "print(from_list_to_dict_3(keys, values))"
   ]
  },
  {
   "cell_type": "code",
   "execution_count": 1,
   "metadata": {},
   "outputs": [
    {
     "name": "stdout",
     "output_type": "stream",
     "text": [
      "20\n",
      "{'b': 20}\n",
      "{'b': 20}\n"
     ]
    }
   ],
   "source": [
    "def get_max_value_from_dict(d):\n",
    "    return max(d.values())\n",
    "\n",
    "def get_max_value_from_dict_2(d):\n",
    "    return {k: v for k, v in d.items() if v == max(d.values())}\n",
    "\n",
    "def get_max_value_from_dict_3(d):\n",
    "    for k, v in d.items():\n",
    "        if v == max(d.values()):\n",
    "            return {k: v}\n",
    "        continue\n",
    "\n",
    "my_dict = {'a': 10, 'b': 20, 'c': 15}\n",
    "\n",
    "print(get_max_value_from_dict(my_dict))\n",
    "print(get_max_value_from_dict_2(my_dict))\n",
    "print(get_max_value_from_dict_3(my_dict))"
   ]
  },
  {
   "cell_type": "code",
   "execution_count": 33,
   "metadata": {},
   "outputs": [
    {
     "data": {
      "text/plain": [
       "{'name': 'Marselle', 'age': 21, 'city': 'Moscow'}"
      ]
     },
     "execution_count": 33,
     "metadata": {},
     "output_type": "execute_result"
    }
   ],
   "source": [
    "data = {\n",
    "    'age':'my age 21',\n",
    "}\n",
    "\n",
    "# data['age1']\n",
    "# data.get('age1', \"Нет такого ключа\")\n",
    "# data.get('age1', None)\n",
    "\n",
    "# # Добавления\n",
    "# data['name'] = \"Marselle\"\n",
    "\n",
    "# # Изменения\n",
    "# data['age'] = 21\n",
    "data.clear()\n",
    "data\n",
    "\n",
    "\n",
    "data = {\n",
    "    'name': 'Marselle',\n",
    "    'age': 21,\n",
    "    'city': 'Moscow'\n",
    "}\n",
    "\n",
    "# data.items()  # return [(key, value), (key, value))\n",
    "# data.keys()   # return [keys]\n",
    "# data.values() # return [values] \n",
    "\n",
    "# data.pop('age')\n",
    "\n",
    "# data['age'] = 21\n",
    "# data.popitem() # Удаляет последний элемент словаря (age)\n",
    "\n",
    "# data.setdefault('country', 'Kz')\n",
    "data1 = data.copy()\n"
   ]
  },
  {
   "cell_type": "code",
   "execution_count": null,
   "metadata": {},
   "outputs": [],
   "source": [
    "# def get_max_value_from_dict(d):\n",
    "#     return max(d.values())\n",
    "\n",
    "# def get_max_value_from_dict_2(d):\n",
    "#     return {k: v for k, v in d.items() if v == max(d.values())}\n",
    "\n",
    "# def get_max_value_from_dict_3(d):\n",
    "#     for k, v in d.items():\n",
    "#         if v == max(d.values()):\n",
    "#             return {k: v}\n",
    "#         continue\n",
    "\n",
    "# my_dict = {'a': 10, 'b': 20, 'c': 15}\n",
    "\n",
    "# print(get_max_value_from_dict(my_dict))\n",
    "# print(get_max_value_from_dict_2(my_dict))\n",
    "# print(get_max_value_from_dict_3(my_dict))"
   ]
  },
  {
   "cell_type": "code",
   "execution_count": 49,
   "metadata": {},
   "outputs": [
    {
     "name": "stdout",
     "output_type": "stream",
     "text": [
      "('b', 20)\n"
     ]
    }
   ],
   "source": [
    "# print(max(list({'a': 10, 'b': 20, 'c': 15}.values())))\n",
    "\n",
    "\n",
    "my_dict = {'a': 10, 'b': 20, 'c': 15}\n",
    "\n",
    "\n",
    "def get_max_value(dictionary: dict):\n",
    "    return max(dictionary.values())\n",
    "\n",
    "# print(get_max_value(my_dict))\n",
    "\n",
    "def get_max_value_2(dictionary: dict):\n",
    "    for k, v in my_dict.items():\n",
    "        if v == max(my_dict.values()):\n",
    "            return k, v\n",
    "\n",
    "# print(get_max_value_2(my_dict))"
   ]
  }
 ],
 "metadata": {
  "kernelspec": {
   "display_name": "Python 3",
   "language": "python",
   "name": "python3"
  },
  "language_info": {
   "codemirror_mode": {
    "name": "ipython",
    "version": 3
   },
   "file_extension": ".py",
   "mimetype": "text/x-python",
   "name": "python",
   "nbconvert_exporter": "python",
   "pygments_lexer": "ipython3",
   "version": "3.12.6"
  }
 },
 "nbformat": 4,
 "nbformat_minor": 2
}
