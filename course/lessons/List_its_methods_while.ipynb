{
 "cells": [
  {
   "cell_type": "markdown",
   "id": "c8a58508-087e-471b-be83-ab5db2852ef3",
   "metadata": {},
   "source": [
    "string - text"
   ]
  },
  {
   "cell_type": "markdown",
   "id": "a8cb7c8a-9c39-429e-a67b-7b228b4efa1d",
   "metadata": {},
   "source": [
    "int - whole number"
   ]
  },
  {
   "cell_type": "markdown",
   "id": "1fc7b075-6c4e-44bc-99ee-1c8c15768d0f",
   "metadata": {},
   "source": [
    "float - number with point"
   ]
  },
  {
   "cell_type": "markdown",
   "id": "021c2af4-0682-460b-82ea-c7c76cd1544d",
   "metadata": {},
   "source": [
    "Boolean - TRUE, FALSE"
   ]
  },
  {
   "cell_type": "markdown",
   "id": "c5336efe-5f3f-44a8-8cf4-35eabec65712",
   "metadata": {},
   "source": [
    "# LIST  СПИСОК"
   ]
  },
  {
   "cell_type": "code",
   "execution_count": 1,
   "id": "3ed2db59-ebfa-4a6d-a06a-3db058c5f5a1",
   "metadata": {},
   "outputs": [],
   "source": [
    "list = [1, 2, 3, 4]  "
   ]
  },
  {
   "cell_type": "code",
   "execution_count": 8,
   "id": "729dbadb-d9aa-444a-adc2-211f284f5f2a",
   "metadata": {},
   "outputs": [],
   "source": [
    "list_1 = ['Almaty', 'Astana', 'Aktobe', '22', 'A']"
   ]
  },
  {
   "cell_type": "code",
   "execution_count": 3,
   "id": "26c5d272-0940-428c-8ee9-6df5a046b8d1",
   "metadata": {},
   "outputs": [],
   "source": [
    "list_2 = ['Almaty', 2, '22', 1.5, True]"
   ]
  },
  {
   "cell_type": "code",
   "execution_count": 4,
   "id": "06602e97-9790-4158-9999-81fdb6517123",
   "metadata": {},
   "outputs": [
    {
     "data": {
      "text/plain": [
       "1"
      ]
     },
     "execution_count": 4,
     "metadata": {},
     "output_type": "execute_result"
    }
   ],
   "source": [
    "list[0] "
   ]
  },
  {
   "cell_type": "code",
   "execution_count": 5,
   "id": "50801c73-33f4-400b-8759-db3e0f2cdbb3",
   "metadata": {},
   "outputs": [
    {
     "data": {
      "text/plain": [
       "4"
      ]
     },
     "execution_count": 5,
     "metadata": {},
     "output_type": "execute_result"
    }
   ],
   "source": [
    "list[-1]"
   ]
  },
  {
   "cell_type": "code",
   "execution_count": 6,
   "id": "15a06d0a-5512-4379-8e32-11549f0b4696",
   "metadata": {},
   "outputs": [
    {
     "data": {
      "text/plain": [
       "[2, 3, 4]"
      ]
     },
     "execution_count": 6,
     "metadata": {},
     "output_type": "execute_result"
    }
   ],
   "source": [
    "list[-3:]"
   ]
  },
  {
   "cell_type": "code",
   "execution_count": 9,
   "id": "82e395d7-342b-4c89-a358-795d5a500cd6",
   "metadata": {},
   "outputs": [
    {
     "data": {
      "text/plain": [
       "['22', 'A']"
      ]
     },
     "execution_count": 9,
     "metadata": {},
     "output_type": "execute_result"
    }
   ],
   "source": [
    "list_1[-2:]"
   ]
  },
  {
   "cell_type": "code",
   "execution_count": 10,
   "id": "c3c512cd-c93c-41f2-b143-1f082688c6f2",
   "metadata": {},
   "outputs": [],
   "source": [
    "a = 'Almaty'"
   ]
  },
  {
   "cell_type": "code",
   "execution_count": null,
   "id": "d8c3f503-a356-4da2-8522-6b5fc23d9c24",
   "metadata": {},
   "outputs": [],
   "source": [
    "a.append"
   ]
  },
  {
   "cell_type": "code",
   "execution_count": 11,
   "id": "1f46b76b-f556-4f2b-9508-9301bbd617a9",
   "metadata": {},
   "outputs": [],
   "source": [
    "list_1[-2] = 'Uralsk'"
   ]
  },
  {
   "cell_type": "code",
   "execution_count": 12,
   "id": "815fa33a-97ce-4c96-b006-e63bf49efc5f",
   "metadata": {},
   "outputs": [
    {
     "data": {
      "text/plain": [
       "['Almaty', 'Astana', 'Aktobe', 'Uralsk', 'A']"
      ]
     },
     "execution_count": 12,
     "metadata": {},
     "output_type": "execute_result"
    }
   ],
   "source": [
    "list_1"
   ]
  },
  {
   "cell_type": "code",
   "execution_count": 13,
   "id": "071a5830-f7e2-47f8-ab62-b55df092a0ba",
   "metadata": {},
   "outputs": [
    {
     "data": {
      "text/plain": [
       "['Almaty', 'Astana', 'Aktobe', 'Uralsk', 'A']"
      ]
     },
     "execution_count": 13,
     "metadata": {},
     "output_type": "execute_result"
    }
   ],
   "source": [
    "list_1[:]"
   ]
  },
  {
   "cell_type": "code",
   "execution_count": null,
   "id": "c6caa6c3-e2b8-478b-bc0d-8e095e195fbe",
   "metadata": {},
   "outputs": [],
   "source": []
  },
  {
   "cell_type": "code",
   "execution_count": 14,
   "id": "38c79d25-f217-4db1-ab2e-11951506adab",
   "metadata": {},
   "outputs": [],
   "source": [
    "list_1.append(4)"
   ]
  },
  {
   "cell_type": "code",
   "execution_count": 15,
   "id": "7e31f1f3-cce5-4b12-bf8e-258155410162",
   "metadata": {},
   "outputs": [
    {
     "data": {
      "text/plain": [
       "['Almaty', 'Astana', 'Aktobe', 'Uralsk', 'A', 4]"
      ]
     },
     "execution_count": 15,
     "metadata": {},
     "output_type": "execute_result"
    }
   ],
   "source": [
    "list_1"
   ]
  },
  {
   "cell_type": "code",
   "execution_count": 16,
   "id": "2e79f2f0-5b84-4134-a4de-8d6144ea2671",
   "metadata": {},
   "outputs": [],
   "source": [
    "list_1.extend(list_2)"
   ]
  },
  {
   "cell_type": "code",
   "execution_count": 17,
   "id": "c365ae62-914a-4043-9ab1-f4f1d42297d6",
   "metadata": {},
   "outputs": [
    {
     "data": {
      "text/plain": [
       "['Almaty', 'Astana', 'Aktobe', 'Uralsk', 'A', 4, 'Almaty', 2, '22', 1.5, True]"
      ]
     },
     "execution_count": 17,
     "metadata": {},
     "output_type": "execute_result"
    }
   ],
   "source": [
    "list_1"
   ]
  },
  {
   "cell_type": "code",
   "execution_count": 19,
   "id": "b06b0e2c-55df-4271-bea4-71a9eddd8ad2",
   "metadata": {},
   "outputs": [],
   "source": [
    "list_1.extend([1, 2, 3, 4])"
   ]
  },
  {
   "cell_type": "code",
   "execution_count": 20,
   "id": "978f3d7e-7686-4ddd-af8f-4414e5541ab8",
   "metadata": {},
   "outputs": [
    {
     "data": {
      "text/plain": [
       "['Almaty',\n",
       " 'Astana',\n",
       " 'Aktobe',\n",
       " 'Uralsk',\n",
       " 'A',\n",
       " 4,\n",
       " 'Almaty',\n",
       " 2,\n",
       " '22',\n",
       " 1.5,\n",
       " True,\n",
       " 1,\n",
       " 2,\n",
       " 3,\n",
       " 4]"
      ]
     },
     "execution_count": 20,
     "metadata": {},
     "output_type": "execute_result"
    }
   ],
   "source": [
    "list_1"
   ]
  },
  {
   "cell_type": "code",
   "execution_count": 23,
   "id": "4172cd92-d6ae-4649-919f-6b61a2c140c9",
   "metadata": {},
   "outputs": [],
   "source": [
    "list_2.insert(1, 5)"
   ]
  },
  {
   "cell_type": "code",
   "execution_count": 24,
   "id": "6e2c747e-43a0-4803-8e4b-111d8ae7e6fa",
   "metadata": {},
   "outputs": [
    {
     "data": {
      "text/plain": [
       "['Almaty', 5, 2, '22', 1.5, True]"
      ]
     },
     "execution_count": 24,
     "metadata": {},
     "output_type": "execute_result"
    }
   ],
   "source": [
    "list_2"
   ]
  },
  {
   "cell_type": "code",
   "execution_count": 25,
   "id": "14fce8fd-554e-42f4-8e79-eb26d544f3e5",
   "metadata": {},
   "outputs": [],
   "source": [
    "list_2.remove('22')"
   ]
  },
  {
   "cell_type": "code",
   "execution_count": 26,
   "id": "28f3ea42-c2f1-4fec-aa06-bdd52574df59",
   "metadata": {},
   "outputs": [
    {
     "data": {
      "text/plain": [
       "['Almaty', 5, 2, 1.5, True]"
      ]
     },
     "execution_count": 26,
     "metadata": {},
     "output_type": "execute_result"
    }
   ],
   "source": [
    "list_2"
   ]
  },
  {
   "cell_type": "code",
   "execution_count": 27,
   "id": "b0adf4e9-943e-4dd0-9ce3-61a0cafdb02c",
   "metadata": {},
   "outputs": [
    {
     "data": {
      "text/plain": [
       "True"
      ]
     },
     "execution_count": 27,
     "metadata": {},
     "output_type": "execute_result"
    }
   ],
   "source": [
    "list_2.pop()"
   ]
  },
  {
   "cell_type": "code",
   "execution_count": 34,
   "id": "81d17fb4-ca28-406c-b5c8-e9a6ca5b36da",
   "metadata": {},
   "outputs": [
    {
     "data": {
      "text/plain": [
       "[]"
      ]
     },
     "execution_count": 34,
     "metadata": {},
     "output_type": "execute_result"
    }
   ],
   "source": [
    "list_2"
   ]
  },
  {
   "cell_type": "code",
   "execution_count": 29,
   "id": "102e5b06-2791-46ca-b9f4-ed9b772cb181",
   "metadata": {},
   "outputs": [
    {
     "data": {
      "text/plain": [
       "1.5"
      ]
     },
     "execution_count": 29,
     "metadata": {},
     "output_type": "execute_result"
    }
   ],
   "source": [
    "list_2.pop()"
   ]
  },
  {
   "cell_type": "code",
   "execution_count": 30,
   "id": "c4ef8394-e912-4dff-bec0-28bd395ee258",
   "metadata": {},
   "outputs": [],
   "source": [
    "list_2.clear()"
   ]
  },
  {
   "cell_type": "code",
   "execution_count": 38,
   "id": "02c705ab-b3eb-48ee-84d8-1657159c3c58",
   "metadata": {},
   "outputs": [],
   "source": [
    "list_2 = [1, 2, 3, 4, 5, 5, 5, 5, 5]"
   ]
  },
  {
   "cell_type": "code",
   "execution_count": 39,
   "id": "0cd18a1c-f98c-4037-9e3c-20025530b46a",
   "metadata": {},
   "outputs": [
    {
     "data": {
      "text/plain": [
       "5"
      ]
     },
     "execution_count": 39,
     "metadata": {},
     "output_type": "execute_result"
    }
   ],
   "source": [
    "list_2.count(5)"
   ]
  },
  {
   "cell_type": "code",
   "execution_count": 40,
   "id": "b2100b6f-0f4b-40c5-a536-ef541e68578e",
   "metadata": {},
   "outputs": [],
   "source": [
    "list_2.sort()"
   ]
  },
  {
   "cell_type": "code",
   "execution_count": 41,
   "id": "49e837e9-0f5b-4568-b0a3-8d5c34df3149",
   "metadata": {},
   "outputs": [
    {
     "data": {
      "text/plain": [
       "[1, 2, 3, 4, 5, 5, 5, 5, 5]"
      ]
     },
     "execution_count": 41,
     "metadata": {},
     "output_type": "execute_result"
    }
   ],
   "source": [
    "list_2"
   ]
  },
  {
   "cell_type": "code",
   "execution_count": 42,
   "id": "e845e76c-8392-454a-8afd-2085260fbe66",
   "metadata": {},
   "outputs": [
    {
     "ename": "TypeError",
     "evalue": "'<' not supported between instances of 'int' and 'str'",
     "output_type": "error",
     "traceback": [
      "\u001b[0;31m---------------------------------------------------------------------------\u001b[0m",
      "\u001b[0;31mTypeError\u001b[0m                                 Traceback (most recent call last)",
      "Cell \u001b[0;32mIn[42], line 1\u001b[0m\n\u001b[0;32m----> 1\u001b[0m list_1\u001b[38;5;241m.\u001b[39msort()\n",
      "\u001b[0;31mTypeError\u001b[0m: '<' not supported between instances of 'int' and 'str'"
     ]
    }
   ],
   "source": [
    "list_1.sort()"
   ]
  },
  {
   "cell_type": "code",
   "execution_count": 43,
   "id": "a9e31866-1ee7-41f9-88a3-20669098e370",
   "metadata": {},
   "outputs": [],
   "source": [
    "list_3 = ['Almaty', 'Astana', 'Aktobe', 'Uralsk', 'A']"
   ]
  },
  {
   "cell_type": "code",
   "execution_count": 44,
   "id": "6f122ee6-2a88-4566-88c9-85d8c3bbdf04",
   "metadata": {},
   "outputs": [],
   "source": [
    "list_3.sort()"
   ]
  },
  {
   "cell_type": "code",
   "execution_count": 45,
   "id": "080912fd-d385-4b81-91ec-4cc1c594ce58",
   "metadata": {},
   "outputs": [
    {
     "data": {
      "text/plain": [
       "['A', 'Aktobe', 'Almaty', 'Astana', 'Uralsk']"
      ]
     },
     "execution_count": 45,
     "metadata": {},
     "output_type": "execute_result"
    }
   ],
   "source": [
    "list_3"
   ]
  },
  {
   "cell_type": "code",
   "execution_count": 46,
   "id": "8bedd758-64db-43c8-be8d-236e95ed4b45",
   "metadata": {},
   "outputs": [],
   "source": [
    "list_2.reverse()"
   ]
  },
  {
   "cell_type": "code",
   "execution_count": 47,
   "id": "36f6d0f3-f917-4ee1-826a-b6a6e59032bd",
   "metadata": {},
   "outputs": [
    {
     "data": {
      "text/plain": [
       "[5, 5, 5, 5, 5, 4, 3, 2, 1]"
      ]
     },
     "execution_count": 47,
     "metadata": {},
     "output_type": "execute_result"
    }
   ],
   "source": [
    "list_2"
   ]
  },
  {
   "cell_type": "code",
   "execution_count": 50,
   "id": "5682f426-118b-4b16-baa5-a75028f594d6",
   "metadata": {},
   "outputs": [],
   "source": [
    "list_5 = list_2.copy()"
   ]
  },
  {
   "cell_type": "code",
   "execution_count": 51,
   "id": "ad793faa-97a3-4fa9-9f0a-db2f35c7e706",
   "metadata": {},
   "outputs": [
    {
     "data": {
      "text/plain": [
       "[5, 5, 5, 5, 5, 4, 3, 2, 1]"
      ]
     },
     "execution_count": 51,
     "metadata": {},
     "output_type": "execute_result"
    }
   ],
   "source": [
    "list_5"
   ]
  },
  {
   "cell_type": "code",
   "execution_count": 52,
   "id": "d4ec275a-0196-4ec4-bda4-0d5e93451b4f",
   "metadata": {},
   "outputs": [],
   "source": [
    "a = 5 \n",
    "b = 7"
   ]
  },
  {
   "cell_type": "code",
   "execution_count": 53,
   "id": "80a383e4-6e46-40cd-83d8-f748220ac1a1",
   "metadata": {},
   "outputs": [],
   "source": [
    "a, b = b, a "
   ]
  },
  {
   "cell_type": "code",
   "execution_count": 56,
   "id": "4e508cd9-6521-4298-803b-46e3901224fd",
   "metadata": {},
   "outputs": [
    {
     "data": {
      "text/plain": [
       "7"
      ]
     },
     "execution_count": 56,
     "metadata": {},
     "output_type": "execute_result"
    }
   ],
   "source": [
    "a"
   ]
  },
  {
   "cell_type": "code",
   "execution_count": 57,
   "id": "ee1dc349-6e29-4c72-a9e0-55442b99c721",
   "metadata": {},
   "outputs": [
    {
     "data": {
      "text/plain": [
       "5"
      ]
     },
     "execution_count": 57,
     "metadata": {},
     "output_type": "execute_result"
    }
   ],
   "source": [
    "b"
   ]
  },
  {
   "cell_type": "code",
   "execution_count": 58,
   "id": "057a2d29-d235-4de6-b7ce-ee331bc62c34",
   "metadata": {},
   "outputs": [
    {
     "data": {
      "text/plain": [
       "7"
      ]
     },
     "execution_count": 58,
     "metadata": {},
     "output_type": "execute_result"
    }
   ],
   "source": [
    "a"
   ]
  },
  {
   "cell_type": "code",
   "execution_count": null,
   "id": "76f4de59-a2fe-43a3-b922-b0a22891b206",
   "metadata": {},
   "outputs": [],
   "source": []
  },
  {
   "cell_type": "code",
   "execution_count": 59,
   "id": "824678e6-bccc-4f85-aa76-fe44b859df54",
   "metadata": {},
   "outputs": [
    {
     "name": "stdout",
     "output_type": "stream",
     "text": [
      "7\n",
      "5\n"
     ]
    }
   ],
   "source": [
    "print(a)\n",
    "print(b)"
   ]
  },
  {
   "cell_type": "code",
   "execution_count": 60,
   "id": "c67f3ba9-cb74-415a-98be-27cb20f48aa3",
   "metadata": {},
   "outputs": [],
   "source": [
    "a = b"
   ]
  },
  {
   "cell_type": "code",
   "execution_count": 61,
   "id": "bb36b5b8-eb53-4fca-bc8c-29effec04fd4",
   "metadata": {},
   "outputs": [
    {
     "data": {
      "text/plain": [
       "5"
      ]
     },
     "execution_count": 61,
     "metadata": {},
     "output_type": "execute_result"
    }
   ],
   "source": [
    "a "
   ]
  },
  {
   "cell_type": "code",
   "execution_count": 62,
   "id": "9f921805-7618-4c70-83fd-20a3a251985f",
   "metadata": {},
   "outputs": [
    {
     "data": {
      "text/plain": [
       "5"
      ]
     },
     "execution_count": 62,
     "metadata": {},
     "output_type": "execute_result"
    }
   ],
   "source": [
    "b"
   ]
  },
  {
   "cell_type": "code",
   "execution_count": 63,
   "id": "994dc8d2-9892-47a9-9e03-5f9d4fd985ca",
   "metadata": {},
   "outputs": [],
   "source": [
    "ab = 5\n",
    "ad = 8"
   ]
  },
  {
   "cell_type": "code",
   "execution_count": 64,
   "id": "317d77a9-1217-4443-a267-35df3d3d5f4b",
   "metadata": {},
   "outputs": [],
   "source": [
    "ac = ab "
   ]
  },
  {
   "cell_type": "code",
   "execution_count": 65,
   "id": "722c9152-fcae-4ef4-ace8-c5e405421ea9",
   "metadata": {},
   "outputs": [
    {
     "data": {
      "text/plain": [
       "5"
      ]
     },
     "execution_count": 65,
     "metadata": {},
     "output_type": "execute_result"
    }
   ],
   "source": [
    "ac"
   ]
  },
  {
   "cell_type": "code",
   "execution_count": 66,
   "id": "6329609a-e76a-4b02-a377-8255fa5031a1",
   "metadata": {},
   "outputs": [],
   "source": [
    "ab = ad"
   ]
  },
  {
   "cell_type": "code",
   "execution_count": 67,
   "id": "7c74b4b8-734e-4ebc-a371-f3708fabc10f",
   "metadata": {},
   "outputs": [
    {
     "data": {
      "text/plain": [
       "8"
      ]
     },
     "execution_count": 67,
     "metadata": {},
     "output_type": "execute_result"
    }
   ],
   "source": [
    "ab"
   ]
  },
  {
   "cell_type": "code",
   "execution_count": 68,
   "id": "24a7feba-a2a5-4b68-9fd5-ce1c2e0ebdc1",
   "metadata": {},
   "outputs": [],
   "source": [
    "ad = ac"
   ]
  },
  {
   "cell_type": "code",
   "execution_count": 69,
   "id": "618b0f5a-429d-4b38-8ad5-8cfb3bba604a",
   "metadata": {},
   "outputs": [
    {
     "data": {
      "text/plain": [
       "5"
      ]
     },
     "execution_count": 69,
     "metadata": {},
     "output_type": "execute_result"
    }
   ],
   "source": [
    "ad"
   ]
  },
  {
   "cell_type": "code",
   "execution_count": 70,
   "id": "0ea1bbea-505d-4ab6-bf27-e6d77f7c73ab",
   "metadata": {},
   "outputs": [],
   "source": [
    "ab, ad = ad, ab"
   ]
  },
  {
   "cell_type": "markdown",
   "id": "78a16eae-6027-4e75-8435-d31c15b1e690",
   "metadata": {},
   "source": [
    "# While"
   ]
  },
  {
   "cell_type": "code",
   "execution_count": 1,
   "id": "42ed8977-73d1-4c81-baad-f6f6e97873f2",
   "metadata": {},
   "outputs": [
    {
     "name": "stdout",
     "output_type": "stream",
     "text": [
      "0\n",
      "1\n",
      "1\n",
      "2\n",
      "3\n",
      "5\n",
      "8\n"
     ]
    }
   ],
   "source": [
    "a, b = 0, 1\n",
    "while a < 10:\n",
    "    print(a)\n",
    "    a, b = b, a+b"
   ]
  },
  {
   "cell_type": "code",
   "execution_count": null,
   "id": "01bc88c7-52f8-4939-aae5-39b8a520dbb6",
   "metadata": {},
   "outputs": [],
   "source": [
    "7"
   ]
  },
  {
   "cell_type": "code",
   "execution_count": null,
   "id": "bd146aeb-43cb-4930-b7dc-4744a77b0848",
   "metadata": {},
   "outputs": [],
   "source": [
    "7+6+5+4+3+2+1"
   ]
  },
  {
   "cell_type": "code",
   "execution_count": 75,
   "id": "55611df4-dfc4-4c2e-807c-70f487c9bc6f",
   "metadata": {},
   "outputs": [
    {
     "name": "stdin",
     "output_type": "stream",
     "text": [
      "natural number 3\n"
     ]
    },
    {
     "name": "stdout",
     "output_type": "stream",
     "text": [
      "6\n"
     ]
    }
   ],
   "source": [
    "n  = int(input(\"natural number\")) \n",
    "\n",
    "sum = 0\n",
    "count = 1\n",
    "\n",
    "while count <= n:\n",
    "    sum += count \n",
    "    count += 1\n",
    "print(sum)\n",
    "    "
   ]
  },
  {
   "cell_type": "markdown",
   "id": "d854f31a-9c46-42ba-9e5c-08ec6fc261b6",
   "metadata": {},
   "source": []
  },
  {
   "cell_type": "code",
   "execution_count": null,
   "id": "7ab3a3fc-fb94-4376-915b-17685e418163",
   "metadata": {},
   "outputs": [],
   "source": []
  },
  {
   "cell_type": "code",
   "execution_count": 77,
   "id": "649ccfea-be81-4aca-9d96-adae65a6d9c8",
   "metadata": {},
   "outputs": [
    {
     "name": "stdout",
     "output_type": "stream",
     "text": [
      "0\n",
      "0\n",
      "1\n"
     ]
    }
   ],
   "source": [
    "for n in range(1, 3):\n",
    "    for x in range(0, n):\n",
    "        print(x)"
   ]
  },
  {
   "cell_type": "code",
   "execution_count": 80,
   "id": "e907ec2b-9bd9-445d-af98-3f07dee339fb",
   "metadata": {},
   "outputs": [
    {
     "name": "stdin",
     "output_type": "stream",
     "text": [
      "Enter the first side:  7\n",
      "Enter the second side:  9\n",
      "Enter the third side:  12\n"
     ]
    },
    {
     "name": "stdout",
     "output_type": "stream",
     "text": [
      "These sides can form a triangle.\n"
     ]
    }
   ],
   "source": [
    "a = float(input(\"Enter the first side: \"))\n",
    "b = float(input(\"Enter the second side: \"))\n",
    "c = float(input(\"Enter the third side: \"))\n",
    "\n",
    "if a + b > c and a + c > b and b + c > a:\n",
    "    print(\"These sides can form a triangle.\")\n",
    "else:\n",
    "    print(\"These sides cannot form a triangle.\")\n"
   ]
  },
  {
   "cell_type": "code",
   "execution_count": null,
   "id": "ac08d0d4-b2ea-4a73-a1d5-a70ce2deca0f",
   "metadata": {},
   "outputs": [],
   "source": []
  },
  {
   "cell_type": "code",
   "execution_count": null,
   "id": "0af05c5a-afd7-427d-adf2-90b9521c5b87",
   "metadata": {},
   "outputs": [],
   "source": []
  },
  {
   "cell_type": "code",
   "execution_count": null,
   "id": "162f4b4c-a216-4b60-b696-b2c0c7dce44b",
   "metadata": {},
   "outputs": [],
   "source": []
  },
  {
   "cell_type": "code",
   "execution_count": null,
   "id": "5f3717fa-cfa7-4a66-b2ee-9fd56812a3d5",
   "metadata": {},
   "outputs": [],
   "source": []
  }
 ],
 "metadata": {
  "kernelspec": {
   "display_name": "Python 3 (ipykernel)",
   "language": "python",
   "name": "python3"
  },
  "language_info": {
   "codemirror_mode": {
    "name": "ipython",
    "version": 3
   },
   "file_extension": ".py",
   "mimetype": "text/x-python",
   "name": "python",
   "nbconvert_exporter": "python",
   "pygments_lexer": "ipython3",
   "version": "3.12.4"
  }
 },
 "nbformat": 4,
 "nbformat_minor": 5
}
