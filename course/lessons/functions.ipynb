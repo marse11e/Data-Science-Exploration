{
 "cells": [
  {
   "cell_type": "markdown",
   "metadata": {},
   "source": [
    "В Python функция — это блок кода, который выполняет определённую задачу и может быть повторно использован в программе. Она позволяет группировать код, делать его более структурированным и читабельным, а также избегать дублирования.\n",
    "\n",
    "Функция создаётся с помощью ключевого слова `def`, за которым следует имя функции и круглые скобки (в скобках можно указать параметры). Затем идёт двоеточие и тело функции, которое состоит из отступов.\n",
    "\n",
    "Пример простой функции:\n",
    "\n",
    "```python\n",
    "def say_hello():\n",
    "    print(\"Привет!\")\n",
    "```\n",
    "\n",
    "Чтобы вызвать эту функцию, достаточно написать её имя:\n",
    "\n",
    "```python\n",
    "say_hello()  # Выведет \"Привет!\"\n",
    "```\n",
    "\n",
    "Функции могут также принимать аргументы и возвращать значения:\n",
    "\n",
    "```python\n",
    "def add_numbers(a, b):\n",
    "    return a + b\n",
    "```\n",
    "\n",
    "Пример вызова с передачей аргументов:\n",
    "\n",
    "```python\n",
    "result = add_numbers(3, 4)  # Вернёт 7\n",
    "```"
   ]
  },
  {
   "cell_type": "markdown",
   "metadata": {},
   "source": [
    "Особенности функций в Python:\n",
    "\n",
    "1. **Повторное использование кода**: Функции позволяют один раз написать код и использовать его многократно.\n",
    "2. **Модульность**: Функции помогают разбивать код на логические блоки, делая программу более структурированной.\n",
    "3. **Параметры**: Функции могут принимать один или несколько аргументов, что позволяет им работать с разными входными данными.\n",
    "4. **Возвращаемое значение**: Функции могут возвращать результат работы, что делает их полезными для вычислений.\n",
    "5. **Область видимости**: Внутри функции существуют локальные переменные, которые недоступны за её пределами (кроме случаев, когда используются глобальные переменные).\n",
    "6. **Вложенные функции**: В Python функции могут быть вложенными, то есть одна функция может быть определена внутри другой.\n",
    "7. **Анонимные функции**: Python поддерживает создание анонимных функций с использованием `lambda`.\n",
    "\n",
    "### Примеры:\n",
    "\n",
    "1. **Функция с аргументами и возвращаемым значением**\n",
    "\n",
    "```python\n",
    "def multiply(a, b):\n",
    "    return a * b\n",
    "\n",
    "result = multiply(5, 3)\n",
    "print(result)  # Выведет 15\n",
    "```\n",
    "\n",
    "2. **Функция с параметром по умолчанию**\n",
    "\n",
    "```python\n",
    "def greet(name=\"Гость\"):\n",
    "    print(f\"Привет, {name}!\")\n",
    "\n",
    "greet(\"Андрей\")  # Выведет: Привет, Андрей!\n",
    "greet()          # Выведет: Привет, Гость!\n",
    "```\n",
    "\n",
    "3. **Рекурсивная функция**\n",
    "\n",
    "```python\n",
    "def factorial(n):\n",
    "    if n == 1:\n",
    "        return 1\n",
    "    return n * factorial(n - 1)\n",
    "\n",
    "print(factorial(5))  # Выведет 120\n",
    "```\n",
    "\n",
    "4. **Функция с несколькими возвращаемыми значениями**\n",
    "\n",
    "```python\n",
    "def get_square_and_cube(x):\n",
    "    return x**2, x**3\n",
    "\n",
    "square, cube = get_square_and_cube(4)\n",
    "print(f\"Квадрат: {square}, Куб: {cube}\")  # Выведет: Квадрат: 16, Куб: 64\n",
    "```\n",
    "\n",
    "5. **Анонимная функция (lambda)**\n",
    "\n",
    "```python\n",
    "double = lambda x: x * 2\n",
    "\n",
    "print(double(6))  # Выведет 12\n",
    "```\n",
    "\n",
    "Функции — это один из ключевых элементов Python, который помогает сделать код более организованным и эффективным."
   ]
  },
  {
   "cell_type": "code",
   "execution_count": 1,
   "metadata": {},
   "outputs": [
    {
     "name": "stdout",
     "output_type": "stream",
     "text": [
      "3\n"
     ]
    }
   ],
   "source": [
    "def my_sum(a, b):\n",
    "    return a + b\n",
    "\n",
    "print(my_sum(1, 2))"
   ]
  },
  {
   "cell_type": "code",
   "execution_count": 2,
   "metadata": {},
   "outputs": [
    {
     "name": "stdout",
     "output_type": "stream",
     "text": [
      "even\n"
     ]
    }
   ],
   "source": [
    "def even_or_odd(num):\n",
    "    if num % 2 == 0:\n",
    "        return \"even\"\n",
    "    return \"odd\"\n",
    "\n",
    "print(even_or_odd(2))"
   ]
  },
  {
   "cell_type": "code",
   "execution_count": 9,
   "metadata": {},
   "outputs": [
    {
     "name": "stdout",
     "output_type": "stream",
     "text": [
      "120\n",
      "120\n"
     ]
    }
   ],
   "source": [
    "def number_factorial(n):\n",
    "    return 1 if n < 1 else n * number_factorial(n-1)\n",
    "\n",
    "def number_factorial_2(n):\n",
    "    if n < 1:\n",
    "        return 1\n",
    "    result = 1\n",
    "    for i in range(1, n+1):\n",
    "        result *= i\n",
    "    return result\n",
    "\n",
    "# print(number_factorial(5))\n",
    "# print(number_factorial_2(5))"
   ]
  },
  {
   "cell_type": "code",
   "execution_count": null,
   "metadata": {},
   "outputs": [],
   "source": [
    "def reverse_text(text):\n",
    "    return text[::-1]\n",
    "\n",
    "print(reverse_text(\"Hello World\"))"
   ]
  },
  {
   "cell_type": "code",
   "execution_count": 10,
   "metadata": {},
   "outputs": [
    {
     "name": "stdout",
     "output_type": "stream",
     "text": [
      "321\n"
     ]
    }
   ],
   "source": [
    "def get_max(*args):\n",
    "    return max(args)\n",
    "\n",
    "print(get_max(1, 2, 3, 4, 5, 6, 21, 32, 321))\n"
   ]
  },
  {
   "cell_type": "code",
   "execution_count": 12,
   "metadata": {},
   "outputs": [
    {
     "name": "stdout",
     "output_type": "stream",
     "text": [
      "3\n",
      "3\n"
     ]
    }
   ],
   "source": [
    "def count_vowels(text, vowels=\"aeiou\"):\n",
    "    return len([char for char in text.lower() if char in vowels])\n",
    "\n",
    "def count_vowels_2(text, vowels=\"aeiou\"):\n",
    "    count = 0\n",
    "    for char in text.lower():\n",
    "        if char in vowels:\n",
    "            count += 1\n",
    "    return count\n",
    "\n",
    "print(count_vowels(\"hello world\"))\n",
    "print(count_vowels_2(\"hello world\"))\n"
   ]
  }
 ],
 "metadata": {
  "kernelspec": {
   "display_name": "Python 3",
   "language": "python",
   "name": "python3"
  },
  "language_info": {
   "codemirror_mode": {
    "name": "ipython",
    "version": 3
   },
   "file_extension": ".py",
   "mimetype": "text/x-python",
   "name": "python",
   "nbconvert_exporter": "python",
   "pygments_lexer": "ipython3",
   "version": "3.12.6"
  }
 },
 "nbformat": 4,
 "nbformat_minor": 2
}
