{
 "cells": [
  {
   "cell_type": "code",
   "execution_count": 3,
   "metadata": {},
   "outputs": [
    {
     "name": "stdout",
     "output_type": "stream",
     "text": [
      "{1, 2, 3, 4, 5}\n",
      "{1, 2, 3, 4, 5}\n"
     ]
    }
   ],
   "source": [
    "# Напишите функцию, которая принимает список и возвращает множество, содержащее уникальные элементы.\n",
    "def get_unique_elements(lst):\n",
    "    return set(lst)\n",
    "\n",
    "\n",
    "print(get_unique_elements([1, 2, 3, 2, 4, 5, 4]))\n",
    "\n",
    "print(set([1, 2, 3, 2, 4, 5, 4]))"
   ]
  },
  {
   "cell_type": "code",
   "execution_count": 4,
   "metadata": {},
   "outputs": [
    {
     "name": "stdout",
     "output_type": "stream",
     "text": [
      "True\n"
     ]
    }
   ],
   "source": [
    "# Напишите функцию, которая проверяет, есть ли элемент в множестве.\n",
    "def check_element_in_set(element, set_):\n",
    "    if element in set_:\n",
    "        return True\n",
    "    return False\n",
    "\n",
    "print(check_element_in_set(5, {1, 2, 3, 4, 5}))"
   ]
  },
  {
   "cell_type": "code",
   "execution_count": 7,
   "metadata": {},
   "outputs": [
    {
     "name": "stdout",
     "output_type": "stream",
     "text": [
      "None\n"
     ]
    }
   ],
   "source": [
    "# Напишите функцию, которая удаляет элемент из множества, если он там есть.\n",
    "def remove_element(set_, element): \n",
    "    return set_.discard(element)  \n",
    "\n",
    "remove_element({1, 2, 3, 4, 5}, 3)"
   ]
  },
  {
   "cell_type": "code",
   "execution_count": null,
   "metadata": {},
   "outputs": [],
   "source": [
    "# Напишите функцию, которая проверяет, непустое ли множество.\n",
    "def is_set_not_empty(set_):   \n",
    "    return \"Туру\" if len(set_) > 0 else \"Туру емес\"\n",
    "\n",
    "\n",
    "print(is_set_not_empty(set()))"
   ]
  },
  {
   "cell_type": "code",
   "execution_count": null,
   "metadata": {},
   "outputs": [],
   "source": [
    "# Создайте функцию, которая возвращает копию заданного множества.\n",
    "\n",
    "def copy_set(original_set):\n",
    "    if not original_set:\n",
    "        return original_set\n",
    "    \n",
    "    chinese_ne_original_set = original_set.copy()\n",
    "    return chinese_ne_original_set\n",
    "\n",
    "\n",
    "print(copy_set({1, 2, 3, 4, 5}))"
   ]
  },
  {
   "cell_type": "code",
   "execution_count": 8,
   "metadata": {},
   "outputs": [
    {
     "name": "stdout",
     "output_type": "stream",
     "text": [
      "{1, 2, 3, 4, 5, 6, 7, 8}\n"
     ]
    }
   ],
   "source": [
    "# Напишите функцию, которая принимает два списка и возвращает множество уникальных элементов, объединяя оба списка.\n",
    "def union_lists(list1, list2):\n",
    "    return set(list1) | set(list2)\n",
    "\n",
    "print(union_lists([1, 2, 3, 4, 5], [4, 5, 6, 7, 8]))"
   ]
  }
 ],
 "metadata": {
  "kernelspec": {
   "display_name": "Python 3",
   "language": "python",
   "name": "python3"
  },
  "language_info": {
   "codemirror_mode": {
    "name": "ipython",
    "version": 3
   },
   "file_extension": ".py",
   "mimetype": "text/x-python",
   "name": "python",
   "nbconvert_exporter": "python",
   "pygments_lexer": "ipython3",
   "version": "3.12.6"
  }
 },
 "nbformat": 4,
 "nbformat_minor": 2
}
