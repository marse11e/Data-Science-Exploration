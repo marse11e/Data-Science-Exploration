{
 "cells": [
  {
   "cell_type": "code",
   "execution_count": null,
   "metadata": {},
   "outputs": [],
   "source": [
    "# 1\n",
    "def dey(num):\n",
    "    match num:\n",
    "        case 1:\n",
    "            return \"Понедельник\"\n",
    "        case 2:\n",
    "            return \"Вторник\"\n",
    "        case 3:\n",
    "            return \"Среда\"\n",
    "        case 4:\n",
    "            return \"Четверг\"\n",
    "        case 5:\n",
    "            return \"Пятница\"\n",
    "        case 6:\n",
    "            return \"Суббота\"\n",
    "        case 7:\n",
    "            return \"Воскресенье\"\n",
    "        case _:\n",
    "            return \"Неверный номер дня\"\n",
    "\n",
    "# 2\n",
    "def animal(name):\n",
    "    match name:\n",
    "        case \"dog\" | \"cat\" | \"mouse\":\n",
    "            return \"Жануарлар\"\n",
    "        case \"bird\" | \"fish\":\n",
    "            return \"балык\"\n",
    "        case \"snake\":\n",
    "            return \"жылан\"\n",
    "        case _:\n",
    "            return \"не понятный жануар\"\n",
    "\n",
    "# 3\n",
    "def triangle(a, b, c):\n",
    "    match (a, b, c):\n",
    "        case (a, b, c) if a == b == c:\n",
    "            return \"Равносторонний треугольник\"\n",
    "        case (a, b, c) if a == b or b == c or a == c:\n",
    "            return \"Равнобедренный треугольник\"\n",
    "        case (a, b, c) if a != b and b != c and a != c:\n",
    "            return \"Ступенчатый треугольник\"\n",
    "        case _:\n",
    "            return \"Недопустимый треугольник\"\n",
    "\n",
    "\n",
    "# 4\n",
    "def time(hour, minute):\n",
    "    match (hour, minute):\n",
    "        case (hour, minute) if 0 <= hour < 12:\n",
    "            return \"Утро\"\n",
    "        case (hour, minute) if 12 <= hour < 18:\n",
    "            return \"День\"\n",
    "        case (hour, minute) if 18 <= hour < 24:\n",
    "            return \"Вечер\"\n",
    "        case _:\n",
    "            return \"Неверное время\"\n",
    "\n",
    "# 5\n",
    "def temperature(temp):\n",
    "    match temp:\n",
    "        case temp if temp < 0:\n",
    "            return \"Холодно\"\n",
    "        case temp if 0 <= temp < 20:\n",
    "            return \"Тепло\"\n",
    "        case temp if temp >= 20:\n",
    "            return \"Жарко\"\n",
    "        case _:\n",
    "            return \"Неверная температура\"\n"
   ]
  },
  {
   "cell_type": "code",
   "execution_count": 2,
   "metadata": {},
   "outputs": [
    {
     "name": "stdout",
     "output_type": "stream",
     "text": [
      "Утро\n"
     ]
    }
   ],
   "source": [
    "def time(hour, minute):\n",
    "    match (hour, minute):\n",
    "        case (hour, minute) if 0 <= hour < 12:\n",
    "            return \"Утро\"\n",
    "        case (hour, minute) if 12 <= hour < 18:\n",
    "            return \"День\"\n",
    "        case (hour, minute) if 18 <= hour < 24:\n",
    "            return \"Вечер\"\n",
    "        case _:\n",
    "            return \"Неверное время\"\n",
    "\n",
    "print(time(3, 30))"
   ]
  }
 ],
 "metadata": {
  "kernelspec": {
   "display_name": "Python 3",
   "language": "python",
   "name": "python3"
  },
  "language_info": {
   "codemirror_mode": {
    "name": "ipython",
    "version": 3
   },
   "file_extension": ".py",
   "mimetype": "text/x-python",
   "name": "python",
   "nbconvert_exporter": "python",
   "pygments_lexer": "ipython3",
   "version": "3.12.6"
  }
 },
 "nbformat": 4,
 "nbformat_minor": 2
}
