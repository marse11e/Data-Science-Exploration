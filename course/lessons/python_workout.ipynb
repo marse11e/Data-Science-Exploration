{
 "cells": [
  {
   "cell_type": "code",
   "execution_count": 13,
   "metadata": {},
   "outputs": [
    {
     "name": "stdout",
     "output_type": "stream",
     "text": [
      "10\n"
     ]
    }
   ],
   "source": [
    "import random\n",
    "\n",
    "print(random.randint(1, 10))"
   ]
  },
  {
   "cell_type": "code",
   "execution_count": 19,
   "metadata": {},
   "outputs": [
    {
     "name": "stdout",
     "output_type": "stream",
     "text": [
      "Правильно 5 == 5\n"
     ]
    }
   ],
   "source": [
    "def gessing_game():\n",
    "    answer = random.randint(1, 100)\n",
    "    \n",
    "    while True:\n",
    "        number = int(input(\"Введите число: \"))\n",
    "\n",
    "        if number == answer:\n",
    "            print(\"Правильно\", f\"{number} == {answer}\")\n",
    "            break\n",
    "        \n",
    "        elif number < answer:\n",
    "            print(\"Слишком низкий\", number)\n",
    "        \n",
    "        else:\n",
    "            print(\"Слишком высоко\", number)\n",
    "    \n",
    "\n",
    "gessing_game()"
   ]
  },
  {
   "cell_type": "code",
   "execution_count": 22,
   "metadata": {},
   "outputs": [
    {
     "name": "stdout",
     "output_type": "stream",
     "text": [
      "<class 'tuple'>\n",
      "6\n"
     ]
    }
   ],
   "source": [
    "def my_sum(*args):\n",
    "    result = 0\n",
    "    for x in args:\n",
    "        result += x\n",
    "    return result\n",
    "\n",
    "print(my_sum(1, 2, 3))"
   ]
  },
  {
   "cell_type": "code",
   "execution_count": 25,
   "metadata": {},
   "outputs": [
    {
     "name": "stdout",
     "output_type": "stream",
     "text": [
      "5\n"
     ]
    }
   ],
   "source": [
    "n = lambda x, y: x + y\n",
    "print(n(2, 3))"
   ]
  },
  {
   "cell_type": "code",
   "execution_count": 32,
   "metadata": {},
   "outputs": [
    {
     "name": "stdout",
     "output_type": "stream",
     "text": [
      "['asd']\n"
     ]
    }
   ],
   "source": [
    "int_str = list(filter(lambda x: isinstance(x, str), [1, 2, 3, 4, 'asd']))\n",
    "print(int_str)"
   ]
  },
  {
   "cell_type": "code",
   "execution_count": 33,
   "metadata": {},
   "outputs": [
    {
     "data": {
      "text/plain": [
       "(1, 2, 3, 4, 5)"
      ]
     },
     "execution_count": 33,
     "metadata": {},
     "output_type": "execute_result"
    }
   ],
   "source": [
    "a = 1, 2, 3, 4, 5\n",
    "\n",
    "a"
   ]
  }
 ],
 "metadata": {
  "kernelspec": {
   "display_name": "Python 3",
   "language": "python",
   "name": "python3"
  },
  "language_info": {
   "codemirror_mode": {
    "name": "ipython",
    "version": 3
   },
   "file_extension": ".py",
   "mimetype": "text/x-python",
   "name": "python",
   "nbconvert_exporter": "python",
   "pygments_lexer": "ipython3",
   "version": "3.12.6"
  }
 },
 "nbformat": 4,
 "nbformat_minor": 2
}
