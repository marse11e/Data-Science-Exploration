{
 "cells": [
  {
   "cell_type": "markdown",
   "metadata": {},
   "source": [
    "**NumPy** (Numerical Python) — это библиотека для языка программирования Python, предназначенная для работы с многомерными массивами и матрицами, а также для выполнения различных математических и статистических операций над ними. Основная сила NumPy заключается в эффективной обработке больших объемов данных и возможности легко управлять данными с помощью различных функций.\n",
    "\n",
    "### Основные особенности NumPy:\n",
    "\n",
    "1. **Многомерные массивы (ndarray)**: \n",
    "   - Основная структура данных NumPy — это многомерный массив, называемый `ndarray`. Он позволяет работать с массивами данных произвольной размерности (1D, 2D, 3D и более). \n",
    "   - В отличие от стандартных списков Python, массивы NumPy занимают меньше места и обеспечивают более быструю обработку данных.\n",
    "\n",
    "2. **Высокая производительность**:\n",
    "   - NumPy написан на C, что делает его выполнение значительно быстрее по сравнению с обычными Python списками.\n",
    "   - Поддерживает векторизацию операций, что позволяет избежать использования циклов для работы с данными.\n",
    "\n",
    "3. **Удобные операции с массивами**:\n",
    "   - Поддерживает широкие возможности для математических операций, таких как сложение, вычитание, умножение, деление массивов, а также линейную алгебру (матрицы, векторы).\n",
    "   - Функции для работы со статистикой, тригонометрией, логарифмами и др.\n",
    "\n",
    "4. **Интеграция с другими библиотеками**:\n",
    "   - NumPy тесно интегрирован с такими библиотеками как **Pandas**, **SciPy**, **Matplotlib**, что делает его основой для научных расчетов, анализа данных и машинного обучения.\n",
    "\n",
    "5. **Поддержка работы с N-мерными массивами**:\n",
    "   - Можно работать с данными любой размерности, начиная от одномерных массивов до массивов с несколькими измерениями (например, 3D, 4D и более).\n",
    "\n",
    "6. **Манипуляции с формами данных**:\n",
    "   - NumPy поддерживает такие операции, как изменение формы массива, транспонирование, объединение и разделение массивов.\n",
    "\n",
    "7. **Функции для случайных чисел и статистики**:\n",
    "   - NumPy предоставляет возможности для генерации случайных чисел, выполнения статистических расчетов, работы с распределениями вероятностей.\n",
    "\n",
    "### Где используется NumPy:\n",
    "\n",
    "- **Научные вычисления**: NumPy широко используется в научных проектах, связанных с физикой, химией, биологией и другими областями, где необходима работа с большими массивами данных.\n",
    "- **Анализ данных**: Основной инструмент для работы с данными в Python, так как его часто используют вместе с Pandas для обработки больших объемов информации.\n",
    "- **Машинное обучение**: NumPy является основой для многих библиотек машинного обучения, таких как TensorFlow и PyTorch, которые зависят от массивов для выполнения математических операций.\n",
    "- **Компьютерное зрение и обработка изображений**: Часто используется в библиотеках для обработки изображений (например, OpenCV).\n"
   ]
  },
  {
   "cell_type": "markdown",
   "metadata": {},
   "source": [
    "```python\n",
    "(function) def array(\n",
    "    object: object,\n",
    "    dtype: None = ...,\n",
    "    *,\n",
    "    copy: bool | _CopyMode | None = ...,\n",
    "    order: _OrderKACF = ...,\n",
    "    subok: bool = ...,\n",
    "    ndmin: int = ...,\n",
    "    like: _SupportsArrayFunc | None = ...\n",
    ") -> NDArray[Any]\n",
    "```"
   ]
  },
  {
   "cell_type": "code",
   "execution_count": null,
   "metadata": {},
   "outputs": [],
   "source": [
    "import numpy as np "
   ]
  },
  {
   "cell_type": "markdown",
   "metadata": {},
   "source": [
    "### Массив объязательно должен иметь один тип данных\n",
    "- int - `[1, 2, 3, 4, 5]`\n",
    "- str - `['1', '2', '3', '4', '5']`\n",
    "- и т.д."
   ]
  },
  {
   "cell_type": "code",
   "execution_count": 13,
   "metadata": {},
   "outputs": [
    {
     "data": {
      "text/plain": [
       "dtype('int64')"
      ]
     },
     "execution_count": 13,
     "metadata": {},
     "output_type": "execute_result"
    }
   ],
   "source": [
    "array_a = np.array([1, 2, 3, 4, 5])\n",
    "array_a.dtype"
   ]
  },
  {
   "cell_type": "code",
   "execution_count": 14,
   "metadata": {},
   "outputs": [
    {
     "data": {
      "text/plain": [
       "dtype('<U21')"
      ]
     },
     "execution_count": 14,
     "metadata": {},
     "output_type": "execute_result"
    }
   ],
   "source": [
    "array_b = np.array(['1', 1, True, 2, 5])\n",
    "array_b.dtype"
   ]
  },
  {
   "cell_type": "code",
   "execution_count": 16,
   "metadata": {},
   "outputs": [
    {
     "ename": "TypeError",
     "evalue": "list indices must be integers or slices, not list",
     "output_type": "error",
     "traceback": [
      "\u001b[1;31m---------------------------------------------------------------------------\u001b[0m",
      "\u001b[1;31mTypeError\u001b[0m                                 Traceback (most recent call last)",
      "Cell \u001b[1;32mIn[16], line 3\u001b[0m\n\u001b[0;32m      1\u001b[0m array_a_python \u001b[38;5;241m=\u001b[39m [\u001b[38;5;241m1\u001b[39m,\u001b[38;5;241m2\u001b[39m,\u001b[38;5;241m3\u001b[39m,\u001b[38;5;241m4\u001b[39m,\u001b[38;5;241m5\u001b[39m,\u001b[38;5;241m6\u001b[39m]\n\u001b[1;32m----> 3\u001b[0m \u001b[43marray_a_python\u001b[49m\u001b[43m[\u001b[49m\u001b[43m[\u001b[49m\u001b[38;5;241;43m1\u001b[39;49m\u001b[43m,\u001b[49m\u001b[38;5;241;43m1\u001b[39;49m\u001b[43m,\u001b[49m\u001b[38;5;241;43m1\u001b[39;49m\u001b[43m,\u001b[49m\u001b[38;5;241;43m2\u001b[39;49m\u001b[43m,\u001b[49m\u001b[38;5;241;43m3\u001b[39;49m\u001b[43m]\u001b[49m\u001b[43m]\u001b[49m\n",
      "\u001b[1;31mTypeError\u001b[0m: list indices must be integers or slices, not list"
     ]
    }
   ],
   "source": [
    "array_a_python = [1,2,3,4,5,6]\n",
    "\n",
    "# Получения массива элементов по индексу на пайтоне \n",
    "# без использования циклов или же функций numpy не получиться\n",
    "array_a_python[[1,1,1,2,3]]"
   ]
  },
  {
   "cell_type": "code",
   "execution_count": 19,
   "metadata": {},
   "outputs": [
    {
     "data": {
      "text/plain": [
       "array([2, 3, 4, 2, 2, 2, 2])"
      ]
     },
     "execution_count": 19,
     "metadata": {},
     "output_type": "execute_result"
    }
   ],
   "source": [
    "# Индексирования numpy получется более гипкое чем у обычных списков пайтон. можно указывать несколько индексов в одной команде\n",
    "array_a[[1, 2, 3, 1, 1, 1, 1]] # Получения массива элементов по индексу"
   ]
  },
  {
   "cell_type": "code",
   "execution_count": 23,
   "metadata": {},
   "outputs": [
    {
     "data": {
      "text/plain": [
       "array([1, 3, 5])"
      ]
     },
     "execution_count": 23,
     "metadata": {},
     "output_type": "execute_result"
    }
   ],
   "source": [
    "# Это способ выбора элементов массива с использованием списка или массива булевых значений (`True` или `False`).\n",
    "array_c = np.array([1, 2, 3, 4, 5])\n",
    "array_c[[True, False, True, False, True]] # Получения массива элементов по индексу"
   ]
  },
  {
   "cell_type": "markdown",
   "metadata": {},
   "source": [
    "### Описание действия:\n",
    "\n",
    "Массив `array_c` — это одномерный массив `[1, 2, 3, 4, 5]`. \n",
    "Булевый массив `[True, False, True, False, True]` указывает, какие элементы нужно выбрать:\n",
    "\n",
    "- Если значение `True`, элемент будет взят.\n",
    "- Если `False`, элемент будет пропущен.\n",
    "\n",
    "Результат: `[1, 3, 5]` — элементы массива, соответствующие позициям с `True`."
   ]
  },
  {
   "cell_type": "markdown",
   "metadata": {},
   "source": [
    "`````"
   ]
  },
  {
   "cell_type": "code",
   "execution_count": 29,
   "metadata": {},
   "outputs": [
    {
     "data": {
      "text/plain": [
       "array([[1, 2, 3],\n",
       "       [4, 5, 6],\n",
       "       [7, 8, 9]])"
      ]
     },
     "execution_count": 29,
     "metadata": {},
     "output_type": "execute_result"
    }
   ],
   "source": [
    "array_d = np.array([1, 2, 3, 4, 5, 6, 7, 8, 9])\n",
    "\n",
    "# В данном примере используется метод reshape для изменения формы массива.\n",
    "array_e = array_d.reshape(3, 3)\n",
    "array_e"
   ]
  },
  {
   "cell_type": "markdown",
   "metadata": {},
   "source": [
    "### Описание действия:\n",
    "\n",
    "- `array_d` — одномерный массив `[1, 2, 3, 4, 5, 6, 7, 8, 9]`.\n",
    "- Метод `reshape(3, 3)` преобразует одномерный массив в двумерный массив 3x3, где:\n",
    "  - Первое число указывает на количество строк.\n",
    "  - Второе — на количество столбцов.\n",
    "\n",
    "Результат: массив\n",
    "```\n",
    "[[1, 2, 3],\n",
    " [4, 5, 6],\n",
    " [7, 8, 9]]\n",
    "```"
   ]
  },
  {
   "cell_type": "code",
   "execution_count": 40,
   "metadata": {},
   "outputs": [
    {
     "name": "stdout",
     "output_type": "stream",
     "text": [
      "Обычное обращение по индексам в два этапа: 8\n",
      "Обращение по индексам в два этапа numpy: 8\n"
     ]
    }
   ],
   "source": [
    "# В данном примере выполняется обращение к элементу двумерного массива `array_e`, \n",
    "# но используются два разных синтаксиса.\n",
    "print('Обычное обращение по индексам в два этапа:', array_e[2][1])\n",
    "print('Обращение по индексам в два этапа numpy:', array_e[2, 1])"
   ]
  },
  {
   "cell_type": "markdown",
   "metadata": {},
   "source": [
    "`````"
   ]
  },
  {
   "cell_type": "markdown",
   "metadata": {},
   "source": [
    "# Типы NumPy"
   ]
  },
  {
   "cell_type": "markdown",
   "metadata": {},
   "source": [
    "```python\n",
    "{'bool': numpy.bool,\n",
    " 'float16': numpy.float16,\n",
    " 'float32': numpy.float32,\n",
    " 'float64': numpy.float64,\n",
    " 'longdouble': numpy.longdouble,\n",
    " 'complex64': numpy.complex64,\n",
    " 'complex128': numpy.complex128,\n",
    " 'clongdouble': numpy.clongdouble,\n",
    " 'bytes_': numpy.bytes_,\n",
    " 'str_': numpy.str_,\n",
    " 'void': numpy.void,\n",
    " 'object_': numpy.object_,\n",
    " 'datetime64': numpy.datetime64,\n",
    " 'timedelta64': numpy.timedelta64,\n",
    " 'int8': numpy.int8,\n",
    " 'byte': numpy.int8,\n",
    " 'uint8': numpy.uint8,\n",
    " 'ubyte': numpy.uint8,\n",
    " 'int16': numpy.int16,\n",
    " 'short': numpy.int16,\n",
    " 'uint16': numpy.uint16,\n",
    " 'ushort': numpy.uint16,\n",
    " 'intc': numpy.intc,\n",
    " 'uintc': numpy.uintc,\n",
    " 'int32': numpy.int32,\n",
    "...\n",
    " 'bytes': numpy.bytes_,\n",
    " 'a': numpy.bytes_,\n",
    " 'int': numpy.int64,\n",
    " 'str': numpy.str_,\n",
    " 'unicode': numpy.str_}\n",
    "```\n",
    "\n",
    "### Числовые типы:\n",
    "1. **`numpy.bool`** — Булевый тип, представляющий значения `True` и `False`.\n",
    "2. **`numpy.float16`** — Число с плавающей запятой (полуточная точность) на 16 бит.\n",
    "3. **`numpy.float32`** — Число с плавающей запятой одинарной точности (32 бита).\n",
    "4. **`numpy.float64`** — Число с плавающей запятой двойной точности (64 бита).\n",
    "5. **`numpy.longdouble`** — Число с плавающей запятой расширенной точности (может быть более 64 бит, зависит от архитектуры).\n",
    "6. **`numpy.complex64`** — Комплексное число, в котором действительная и мнимая части представлены числами с плавающей запятой одинарной точности (по 32 бита).\n",
    "7. **`numpy.complex128`** — Комплексное число с действительной и мнимой частями двойной точности (по 64 бита).\n",
    "8. **`numpy.clongdouble`** — Комплексное число с действительными и мнимыми частями расширенной точности.\n",
    "9. **`numpy.int8`** — Целое число со знаком на 8 бит (от -128 до 127).\n",
    "10. **`numpy.uint8`** — Беззнаковое целое число на 8 бит (от 0 до 255).\n",
    "11. **`numpy.int16`** — Целое число со знаком на 16 бит (от -32768 до 32767).\n",
    "12. **`numpy.uint16`** — Беззнаковое целое число на 16 бит (от 0 до 65535).\n",
    "13. **`numpy.int32`** — Целое число со знаком на 32 бита.\n",
    "14. **`numpy.uint32`** — Беззнаковое целое число на 32 бита.\n",
    "15. **`numpy.int64`** — Целое число со знаком на 64 бита.\n",
    "16. **`numpy.uint64`** — Беззнаковое целое число на 64 бита.\n",
    "17. **`numpy.intc`** — Целое число, аналогичное типу `int` в языке C (обычно 32 или 64 бита, зависит от платформы).\n",
    "18. **`numpy.uintc`** — Беззнаковое целое число аналогичное `unsigned int` в языке C.\n",
    "\n",
    "### Комплексные типы:\n",
    "19. **`numpy.bytes_`** — Представляет строки байтов (аналог `bytes` в Python).\n",
    "20. **`numpy.str_`** — Строка символов Unicode фиксированной длины (аналог `str` в Python).\n",
    "\n",
    "### Специальные типы:\n",
    "21. **`numpy.void`** — Используется для произвольных данных, таких как структуры и записи.\n",
    "22. **`numpy.object_`** — Общий тип для любых объектов Python (например, списков, кортежей).\n",
    "23. **`numpy.datetime64`** — Дата и время с точностью до наносекунд.\n",
    "24. **`numpy.timedelta64`** — Представляет разницу во времени.\n",
    "\n",
    "### Псевдонимы:\n",
    "25. **`numpy.byte`** — Псевдоним для `numpy.int8`.\n",
    "26. **`numpy.ubyte`** — Псевдоним для `numpy.uint8`.\n",
    "27. **`numpy.short`** — Псевдоним для `numpy.int16`.\n",
    "28. **`numpy.ushort`** — Псевдоним для `numpy.uint16`.\n",
    "29. **`numpy.int`** — Псевдоним для `numpy.int64`.\n",
    "30. **`numpy.unicode`** — Псевдоним для `numpy.str_`.\n",
    "\n",
    "### Примечание:\n",
    "Типы, такие как `intc`, `uintc`, `intp` и другие, зависят от архитектуры системы и могут варьироваться (например, на 32-битных системах они могут иметь меньший размер).\n",
    "\n",
    "\n",
    "#### Что бы посмотреть все типа данных NumPy\n",
    "```python\n",
    "import numpy as np\n",
    "np.sctypeDict\n",
    "np.sctypeDict\n",
    "```\n",
    "\n",
    "<i> 1000 элементов x int8 = 1000 байт.\n",
    "1000 элементов x int64 = 8000 байт.<i>"
   ]
  },
  {
   "cell_type": "code",
   "execution_count": null,
   "metadata": {},
   "outputs": [],
   "source": [
    "import numpy as np"
   ]
  },
  {
   "cell_type": "code",
   "execution_count": 55,
   "metadata": {},
   "outputs": [
    {
     "data": {
      "text/plain": [
       "dtype('float64')"
      ]
     },
     "execution_count": 55,
     "metadata": {},
     "output_type": "execute_result"
    }
   ],
   "source": [
    "array_float = np.array([[1, 2, 3], [4, 5, 6]], dtype=float)\n",
    "# array_float = np.array([[1, 2, 3], [4, 5, 6]], dtype=np.float64)\n",
    "# array_float = np.array([[1, 2, 3], [4, 5, 6]], dtype='float')\n",
    "# array_float = np.array([[1, 2, 3], [4, 5, 6]], dtype=np.float32)\n",
    "# array_float = np.array([[1, 2, 3], [4, 5, 6]], dtype='float32')\n",
    "# array_float = np.array([[1, 2, 3], [4, 5, 6]], dtype=np.float16)\n",
    "# array_float = np.array([[1, 2, 3], [4, 5, 6]], dtype='float16')\n",
    "array_float.dtype"
   ]
  },
  {
   "cell_type": "code",
   "execution_count": 59,
   "metadata": {},
   "outputs": [
    {
     "data": {
      "text/plain": [
       "np.float64(10.0)"
      ]
     },
     "execution_count": 59,
     "metadata": {},
     "output_type": "execute_result"
    }
   ],
   "source": [
    "# Это базовый тип Python.\n",
    "str(10)\n",
    "\n",
    "# Тип строки в контексте массивов NumPy, \n",
    "# который используется для совместимости внутри библиотек NumPy.\n",
    "np.str_(10)\n",
    "\n",
    "np.float32(10)\n",
    "np.float64(10)"
   ]
  }
 ],
 "metadata": {
  "kernelspec": {
   "display_name": "Python 3",
   "language": "python",
   "name": "python3"
  },
  "language_info": {
   "codemirror_mode": {
    "name": "ipython",
    "version": 3
   },
   "file_extension": ".py",
   "mimetype": "text/x-python",
   "name": "python",
   "nbconvert_exporter": "python",
   "pygments_lexer": "ipython3",
   "version": "3.12.6"
  }
 },
 "nbformat": 4,
 "nbformat_minor": 2
}
