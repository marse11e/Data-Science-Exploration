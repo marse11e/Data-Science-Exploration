{
 "cells": [
  {
   "cell_type": "markdown",
   "metadata": {},
   "source": [
    "**Pandas** — это мощная библиотека для языка программирования Python, которая используется для анализа и обработки данных. Она предоставляет удобные инструменты для работы с табличными данными, а также с данными из различных источников, таких как CSV, Excel, SQL базы данных и другие форматы.\n",
    "\n",
    "Основные возможности Pandas включают:\n",
    "\n",
    "- **DataFrame** — это двухмерная структура данных, похожая на таблицы в базе данных или электронные таблицы Excel. С помощью DataFrame можно легко манипулировать данными, добавлять и удалять столбцы, фильтровать строки и выполнять другие операции.\n",
    "  \n",
    "- **Series** — это одномерная структура данных, аналогичная массиву или списку, которая часто используется для представления одного столбца или строки данных.\n",
    "\n",
    "- **Чтение и запись данных** — Pandas поддерживает импорт данных из разных форматов (CSV, Excel, SQL и др.) и экспорт данных в эти форматы.\n",
    "  \n",
    "- **Группировка, фильтрация и агрегация** — библиотека позволяет группировать данные по категориям, фильтровать их по заданным условиям, а также выполнять агрегатные операции, такие как суммирование, подсчет или вычисление среднего.\n",
    "\n",
    "- **Работа с отсутствующими данными** — Pandas предлагает удобные методы для работы с отсутствующими значениями, такие как заполнение или удаление пропущенных данных.\n",
    "\n",
    "Pandas делает обработку данных более простой и эффективной, предоставляя высокоуровневые структуры и функции, которые упрощают задачу работы с большими наборами данных и их анализа."
   ]
  },
  {
   "cell_type": "markdown",
   "metadata": {},
   "source": [
    "**Pandas** — это универсальная библиотека для работы с данными, и ее возможности гораздо шире, чем базовые функции обработки данных. Вот еще несколько ключевых аспектов, которые делают Pandas незаменимым инструментом для анализа данных:\n",
    "\n",
    "### 1. **Гибкость работы с разными форматами данных**\n",
    "Pandas поддерживает чтение и запись данных из множества форматов, таких как:\n",
    "- CSV-файлы\n",
    "- Excel (XLS и XLSX)\n",
    "- SQL базы данных (с использованием SQLAlchemy)\n",
    "- JSON\n",
    "- HTML-таблицы\n",
    "- Паркет (Parquet)\n",
    "  \n",
    "Это делает Pandas отличным инструментом для интеграции данных из различных источников и их преобразования.\n",
    "\n",
    "### 2. **Работа с временными рядами**\n",
    "Pandas предоставляет встроенные функции для работы с временными рядами. Можно легко выполнять такие операции, как:\n",
    "- Конвертация строк в даты с помощью `pd.to_datetime()`\n",
    "- Упрощение работы с временными метками\n",
    "- Частотный ресемплинг данных (например, агрегация по дням, месяцам или годам)\n",
    "- Сдвиг временных данных вперёд или назад для анализа тенденций\n",
    "\n",
    "### 3. **Манипуляции с данными**\n",
    "Pandas предлагает широкий спектр возможностей для модификации данных:\n",
    "- **Слияние и соединение данных**: функции `merge()`, `join()` и `concat()` позволяют объединять несколько DataFrame на основе общих ключей или индексов.\n",
    "- **Работа с индексами**: вы можете назначить один или несколько столбцов в качестве индексов, что делает выборку и работу с данными более эффективной.\n",
    "- **Применение функций к данным**: с помощью метода `apply()` можно применять произвольные функции ко всем значениям в DataFrame или Series.\n",
    "- **Трансформация данных**: Pandas позволяет легко масштабировать, нормализовать и трансформировать данные для их дальнейшего анализа.\n",
    "\n",
    "### 4. **Обработка отсутствующих данных**\n",
    "Pandas предлагает мощные инструменты для работы с пропущенными значениями (NaN):\n",
    "- **Заполнение пропусков**: метод `fillna()` позволяет заменить пропущенные значения определённым значением или методами (например, средним, медианой).\n",
    "- **Удаление пропусков**: метод `dropna()` позволяет удалить строки или столбцы с пропущенными значениями.\n",
    "- **Заполнение вперёд/назад**: методы `ffill()` и `bfill()` позволяют заполнить пропущенные значения на основе предыдущих или последующих значений.\n",
    "\n",
    "### 5. **Группировка и агрегация данных**\n",
    "Функции группировки в Pandas позволяют выполнять сложные вычисления для разных категорий данных:\n",
    "- **Группировка** с помощью метода `groupby()` позволяет разбить данные на группы по определенным критериям (например, по категориям, дате или другим атрибутам) и выполнять агрегатные операции, такие как сумма, среднее, минимум или максимум.\n",
    "- **Сводные таблицы**: Pandas поддерживает создание сводных таблиц (`pivot_table()`), которые помогают легко агрегировать данные по нескольким уровням.\n",
    "\n",
    "### 6. **Векторизация операций**\n",
    "Pandas оптимизирован для работы с большими объемами данных за счёт векторизации, что означает, что большинство операций выполняются быстро, так как они реализованы на уровне библиотеки NumPy. Это позволяет выполнять такие операции, как арифметические вычисления, на целых столбцах и рядах данных без использования циклов.\n",
    "\n",
    "### 7. **Визуализация данных**\n",
    "Хотя Pandas не предназначен для визуализации сам по себе, он отлично интегрируется с библиотеками визуализации, такими как Matplotlib и Seaborn. Pandas позволяет легко строить графики на основе данных с помощью метода `.plot()`:\n",
    "- Линейные графики\n",
    "- Столбчатые диаграммы\n",
    "- Гистограммы\n",
    "- Графики разброса\n",
    "\n",
    "Это упрощает визуальный анализ данных и нахождение закономерностей.\n",
    "\n",
    "### 8. **Оптимизация памяти и производительности**\n",
    "Pandas поддерживает возможность настройки типов данных для оптимизации использования памяти. Это важно при работе с большими наборами данных:\n",
    "- Можно конвертировать столбцы в категории для экономии памяти.\n",
    "- Pandas поддерживает работу с большими данными с помощью `chunking` (разбиение данных на части), что позволяет загружать и обрабатывать большие наборы данных по частям.\n",
    "\n",
    "### 9. **Применение в реальных проектах**\n",
    "Pandas активно используется в различных областях:\n",
    "- **Финансы**: анализ временных рядов, предсказание цен на акции, анализ отчетности.\n",
    "- **Наука о данных**: предобработка данных перед обучением моделей машинного обучения, создание feature engineering.\n",
    "- **Бизнес-аналитика**: анализ продаж, маркетинговых кампаний, клиентских данных.\n",
    "\n",
    "### 10. **Сообщество и экосистема**\n",
    "Pandas имеет огромное сообщество разработчиков, которое постоянно расширяет функционал библиотеки. В интернете доступны тысячи примеров, учебных пособий и ответов на вопросы по Pandas. Она также хорошо интегрируется с другими библиотеками Python, такими как NumPy, SciPy, Matplotlib и scikit-learn.\n",
    "\n",
    "В целом, **Pandas** — это мощный и гибкий инструмент, который делает работу с данными быстрой, простой и эффективной, что делает его незаменимым в арсенале любого аналитика данных или разработчика."
   ]
  },
  {
   "cell_type": "code",
   "execution_count": 5,
   "metadata": {},
   "outputs": [],
   "source": [
    "import pandas as pd"
   ]
  },
  {
   "cell_type": "code",
   "execution_count": 2,
   "metadata": {},
   "outputs": [],
   "source": [
    "my_list_int = [1, 2, 3, 4, 5]\n",
    "my_list_str = ['Marselle', 'Amanzhol', 'Aisha', 'Adil', 'Bektur']"
   ]
  },
  {
   "cell_type": "code",
   "execution_count": 3,
   "metadata": {},
   "outputs": [
    {
     "data": {
      "text/plain": [
       "0    1\n",
       "1    2\n",
       "2    3\n",
       "3    4\n",
       "4    5\n",
       "dtype: int64"
      ]
     },
     "execution_count": 3,
     "metadata": {},
     "output_type": "execute_result"
    }
   ],
   "source": [
    "pd.Series(my_list_int)"
   ]
  },
  {
   "cell_type": "markdown",
   "metadata": {},
   "source": [
    "1. **`pd.Series(my_list_int)`**:\n",
    "   - Ты создаешь объект `Series` из списка чисел `my_list_int`. Индексы устанавливаются автоматически, начиная с 0.\n"
   ]
  },
  {
   "cell_type": "code",
   "execution_count": 4,
   "metadata": {},
   "outputs": [
    {
     "data": {
      "text/plain": [
       "0    Marselle\n",
       "1    Amanzhol\n",
       "2       Aisha\n",
       "3        Adil\n",
       "4      Bektur\n",
       "dtype: object"
      ]
     },
     "execution_count": 4,
     "metadata": {},
     "output_type": "execute_result"
    }
   ],
   "source": [
    "pd.Series(my_list_str)"
   ]
  },
  {
   "cell_type": "markdown",
   "metadata": {},
   "source": [
    "2. **`pd.Series(my_list_str)`**:\n",
    "   - Создаешь объект `Series` из списка строк `my_list_str`. Индексы также автоматически устанавливаются начиная с 0.\n"
   ]
  },
  {
   "cell_type": "code",
   "execution_count": 24,
   "metadata": {},
   "outputs": [
    {
     "data": {
      "text/plain": [
       "1    Marselle\n",
       "2    Amanzhol\n",
       "3       Aisha\n",
       "4        Adil\n",
       "5      Bektur\n",
       "dtype: object"
      ]
     },
     "execution_count": 24,
     "metadata": {},
     "output_type": "execute_result"
    }
   ],
   "source": [
    "pd.Series(my_list_str, index=my_list_int)"
   ]
  },
  {
   "cell_type": "markdown",
   "metadata": {},
   "source": [
    "3. **`pd.Series(my_list_str, index=my_list_int)`**:\n",
    "   - Создаешь объект `Series`, где данные — это строки из списка `my_list_str`, а индексы берутся из списка чисел `my_list_int`.\n"
   ]
  },
  {
   "cell_type": "code",
   "execution_count": 25,
   "metadata": {},
   "outputs": [
    {
     "data": {
      "text/plain": [
       "Marselle    1\n",
       "Amanzhol    2\n",
       "Aisha       3\n",
       "Adil        4\n",
       "Bektur      5\n",
       "dtype: int64"
      ]
     },
     "execution_count": 25,
     "metadata": {},
     "output_type": "execute_result"
    }
   ],
   "source": [
    "pd.Series(my_list_int, index=my_list_str)\n"
   ]
  },
  {
   "cell_type": "markdown",
   "metadata": {},
   "source": [
    "4. **`pd.Series(my_list_int, index=my_list_str)`**:\n",
    "   - Ты создаешь объект `Series`, где данные — это числа из списка `my_list_int`, а индексы задаются именами из списка `my_list_str`.\n"
   ]
  },
  {
   "cell_type": "code",
   "execution_count": 6,
   "metadata": {},
   "outputs": [],
   "source": [
    "import pandas as pd\n",
    "import numpy as np"
   ]
  },
  {
   "cell_type": "code",
   "execution_count": 28,
   "metadata": {},
   "outputs": [
    {
     "data": {
      "text/plain": [
       "array([18, 19, 20, 21, 22])"
      ]
     },
     "execution_count": 28,
     "metadata": {},
     "output_type": "execute_result"
    }
   ],
   "source": [
    "my_list_np = np.arange(18, 23)\n",
    "my_list_np"
   ]
  },
  {
   "cell_type": "markdown",
   "metadata": {},
   "source": [
    "1. **`my_list_np = np.arange(1, 6)`**:\n",
    "   - Используя библиотеку `numpy`, ты создаешь массив чисел от 1 до 5 включительно с помощью функции `np.arange()`. Массив `my_list_np` теперь содержит числа `[1, 2, 3, 4, 5]`."
   ]
  },
  {
   "cell_type": "markdown",
   "metadata": {},
   "source": [
    "2. **`my_list_np`**:\n",
    "   - Здесь ты просто выводишь созданный массив, что позволяет увидеть его содержимое.\n"
   ]
  },
  {
   "cell_type": "code",
   "execution_count": 29,
   "metadata": {},
   "outputs": [
    {
     "data": {
      "text/plain": [
       "0    18\n",
       "1    19\n",
       "2    20\n",
       "3    21\n",
       "4    22\n",
       "dtype: int64"
      ]
     },
     "execution_count": 29,
     "metadata": {},
     "output_type": "execute_result"
    }
   ],
   "source": [
    "pd.Series(my_list_np)"
   ]
  },
  {
   "cell_type": "markdown",
   "metadata": {},
   "source": [
    "3. **`pd.Series(my_list_np)`**:\n",
    "   - Ты создаешь объект `Series` из массива `my_list_np`. Индексы по умолчанию будут автоматически установлены, начиная с 0."
   ]
  },
  {
   "cell_type": "code",
   "execution_count": 38,
   "metadata": {},
   "outputs": [
    {
     "name": "stdout",
     "output_type": "stream",
     "text": [
      "18\n",
      "18\n"
     ]
    }
   ],
   "source": [
    "names = ['Marselle', 'Amanzhol', 'Aisha', 'Adil', 'Bektur']\n",
    "\n",
    "series_wich_name = pd.Series(my_list_np, index=names)\n",
    "\n",
    "print(series_wich_name['Marselle'])\n",
    "print(series_wich_name[input('Age by name: ')])"
   ]
  },
  {
   "cell_type": "markdown",
   "metadata": {},
   "source": [
    "1. **`names = ['Marselle', 'Amanzhol', 'Aisha', 'Adil', 'Bektur']`**:\n",
    "   - Создается список имен, который будет использоваться в качестве индексов для объекта `Series`.\n",
    "\n",
    "2. **`series_wich_name = pd.Series(my_list_np, index=names)`**:\n",
    "   - Ты создаешь объект `Series` из массива `my_list_np` (числа от 1 до 5), используя список `names` в качестве индексов. Теперь значения в `Series` можно будет получать по именам.\n",
    "\n",
    "3. **`print(series_wich_name['Marselle'])`**:\n",
    "   - Здесь ты выводишь значение `Series`, соответствующее индексу `'Marselle'`. Поскольку в массиве `my_list_np` находится число 1 (первое значение), будет выведено `1`.\n",
    "\n",
    "4. **`print(series_wich_name[input('Age by name: ')])`**:\n",
    "   - В этой строке программа запрашивает у пользователя ввод имени, используя функцию `input()`. Введенное имя затем используется для получения значения из `series_wich_name`. Если введенное имя присутствует в индексе `Series`, соответствующее значение будет выведено. Если имя не существует, будет вызвано исключение `KeyError`."
   ]
  },
  {
   "cell_type": "code",
   "execution_count": 40,
   "metadata": {},
   "outputs": [
    {
     "name": "stdout",
     "output_type": "stream",
     "text": [
      "Marselle    21\n",
      "Amanzhol    19\n",
      "Aisha       19\n",
      "Adil        21\n",
      "Bektur      22\n",
      "dtype: int64\n"
     ]
    }
   ],
   "source": [
    "series_wich_name['Marselle'] = 21\n",
    "series_wich_name['Aisha'] = 19\n",
    "print(series_wich_name)"
   ]
  },
  {
   "cell_type": "markdown",
   "metadata": {},
   "source": [
    "1. **`series_wich_name['Marselle'] = 21`**:\n",
    "   - Ты изменяешь значение, соответствующее индексу `'Marselle'`, на `21`. Теперь `Marselle` будет ассоциироваться с возрастом `21`.\n",
    "\n",
    "2. **`series_wich_name['Aisha'] = 19`**:\n",
    "   - Ты обновляешь значение для индекса `'Aisha'`, установив его на `19`. Теперь `Aisha` будет ассоциироваться с возрастом `19`.\n",
    "\n",
    "3. **`print(series_wich_name)`**:\n",
    "   - Здесь выводится весь объект `Series`, показывая обновленные значения для индексов `'Marselle'` и `'Aisha'`. Остальные значения останутся без изменений.\n",
    "\n",
    "В результате ты увидишь, что `series_wich_name` теперь содержит:\n",
    "- `Marselle` — `21`\n",
    "- `Amanzhol` — прежнее значение\n",
    "- `Aisha` — `19`\n",
    "- `Adil` — прежнее значение\n",
    "- `Bektur` — прежнее значение "
   ]
  },
  {
   "cell_type": "code",
   "execution_count": 54,
   "metadata": {},
   "outputs": [
    {
     "data": {
      "text/plain": [
       "'numbers'"
      ]
     },
     "execution_count": 54,
     "metadata": {},
     "output_type": "execute_result"
    }
   ],
   "source": [
    "numbers = np.arange(1, 5)\n",
    "\n",
    "series = pd.Series(\n",
    "    numbers,\n",
    "    index=['a', 'b', 'c', 'd'],\n",
    "    name='numbers'\n",
    ")\n",
    "\n",
    "series.name"
   ]
  },
  {
   "cell_type": "markdown",
   "metadata": {},
   "source": [
    "В этом коде ты создаешь объект `Series` и устанавливаешь ему имя.\n",
    "\n",
    "1. **`numbers = np.arange(1, 5)`**:\n",
    "   - Создается массив чисел от 1 до 4 с помощью функции `np.arange()`. В `numbers` теперь находятся значения `[1, 2, 3, 4]`.\n",
    "\n",
    "2. **`series = pd.Series(...)`**:\n",
    "   - Ты создаешь объект `Series`, используя массив `numbers` в качестве данных. В качестве индексов задаются символы `['a', 'b', 'c', 'd']`. Также ты устанавливаешь имя для `Series` как `'numbers'`.\n",
    "\n",
    "3. **`series.name`**:\n",
    "   - Эта строка возвращает имя объекта `Series`. В данном случае это будет строка `'numbers'`, которую ты установил при создании `Series`.\n",
    "\n",
    "Таким образом, после выполнения `series.name` ты получишь строку `'numbers'`, которая идентифицирует данный объект `Series`."
   ]
  },
  {
   "cell_type": "code",
   "execution_count": 46,
   "metadata": {},
   "outputs": [
    {
     "data": {
      "text/html": [
       "<div>\n",
       "<style scoped>\n",
       "    .dataframe tbody tr th:only-of-type {\n",
       "        vertical-align: middle;\n",
       "    }\n",
       "\n",
       "    .dataframe tbody tr th {\n",
       "        vertical-align: top;\n",
       "    }\n",
       "\n",
       "    .dataframe thead th {\n",
       "        text-align: right;\n",
       "    }\n",
       "</style>\n",
       "<table border=\"1\" class=\"dataframe\">\n",
       "  <thead>\n",
       "    <tr style=\"text-align: right;\">\n",
       "      <th></th>\n",
       "      <th>Marselle</th>\n",
       "      <th>Bektur</th>\n",
       "      <th>Adil</th>\n",
       "    </tr>\n",
       "  </thead>\n",
       "  <tbody>\n",
       "    <tr>\n",
       "      <th>Rank1</th>\n",
       "      <td>Python</td>\n",
       "      <td>Python</td>\n",
       "      <td>BackEnd</td>\n",
       "    </tr>\n",
       "    <tr>\n",
       "      <th>Rank2</th>\n",
       "      <td>BackEnd</td>\n",
       "      <td>DataScience</td>\n",
       "      <td>FrontEnd</td>\n",
       "    </tr>\n",
       "  </tbody>\n",
       "</table>\n",
       "</div>"
      ],
      "text/plain": [
       "      Marselle       Bektur      Adil\n",
       "Rank1   Python       Python   BackEnd\n",
       "Rank2  BackEnd  DataScience  FrontEnd"
      ]
     },
     "execution_count": 46,
     "metadata": {},
     "output_type": "execute_result"
    }
   ],
   "source": [
    "data = {\n",
    "    'Marselle': ['Python', 'BackEnd'], \n",
    "    'Bektur': ['Python', 'DataScience'],\n",
    "    'Adil': ['BackEnd', 'FrontEnd']\n",
    "}\n",
    "\n",
    "pd.DataFrame(data, index=['Rank1', 'Rank2'])"
   ]
  },
  {
   "cell_type": "markdown",
   "metadata": {},
   "source": [
    "В этом коде ты создаешь объект `DataFrame` из словаря с данными.\n",
    "\n",
    "1. **`data`**:\n",
    "   - Ты создаешь словарь, в котором ключи — это имена (например, `'Marselle'`, `'Bektur'`, `'Adil'`), а значения — списки, представляющие навыки или специальности этих людей (например, `['Python', 'BackEnd']` для `Marselle`).\n",
    "\n",
    "2. **`pd.DataFrame(data, index=['Rank1', 'Rank2'])`**:\n",
    "   - Здесь ты создаешь объект `DataFrame` с использованием словаря `data`. Параметр `index` устанавливает пользовательские индексы для строк, в данном случае `['Rank1', 'Rank2']`. Однако, поскольку в словаре три ключа, а в индексе только два значения, `pandas` автоматически дополнит его недостающими индексами, чтобы все строки были представлены.\n",
    "\n",
    "Таким образом, в `DataFrame` будет три столбца (по именам) и несколько строк, в зависимости от того, как `pandas` обработает предоставленные данные. Каждый столбец будет содержать списки навыков для каждого имени. "
   ]
  },
  {
   "cell_type": "code",
   "execution_count": 57,
   "metadata": {},
   "outputs": [
    {
     "data": {
      "text/plain": [
       "array([[ 0,  1,  2,  3,  4],\n",
       "       [ 5,  6,  7,  8,  9],\n",
       "       [10, 11, 12, 13, 14],\n",
       "       [15, 16, 17, 18, 19],\n",
       "       [20, 21, 22, 23, 24]])"
      ]
     },
     "execution_count": 57,
     "metadata": {},
     "output_type": "execute_result"
    }
   ],
   "source": [
    "array_5x5 = np.arange(25).reshape(5, 5)\n",
    "array_5x5"
   ]
  },
  {
   "cell_type": "code",
   "execution_count": 65,
   "metadata": {},
   "outputs": [
    {
     "data": {
      "text/plain": [
       "A    0\n",
       "B    1\n",
       "C    2\n",
       "D    3\n",
       "E    4\n",
       "F    5\n",
       "G    6\n",
       "H    7\n",
       "I    8\n",
       "J    9\n",
       "dtype: int64"
      ]
     },
     "execution_count": 65,
     "metadata": {},
     "output_type": "execute_result"
    }
   ],
   "source": [
    "from string import ascii_uppercase\n",
    "\n",
    "letters = list(ascii_uppercase[:10])\n",
    "\n",
    "ser = pd.Series(np.arange(len(letters)), index=letters)\n",
    "ser"
   ]
  },
  {
   "cell_type": "markdown",
   "metadata": {},
   "source": [
    "1. **`from string import ascii_uppercase`**:\n",
    "   - Импортируется строка `ascii_uppercase`, содержащая все заглавные буквы английского алфавита (от 'A' до 'Z').\n",
    "\n",
    "2. **`letters = list(ascii_uppercase[:10])`**:\n",
    "   - Создается список `letters`, который содержит первые 10 заглавных букв английского алфавита: `['A', 'B', 'C', 'D', 'E', 'F', 'G', 'H', 'I', 'J']`.\n",
    "\n",
    "3. **`ser = pd.Series(np.arange(len(letters)), index=letters)`**:\n",
    "   - Создается объект `Series`, в котором данные — это массив целых чисел от 0 до 9, создаваемый с помощью `np.arange(len(letters))`. Индексы для `Series` берутся из списка `letters`.\n",
    "   - В результате получится `Series`, где каждой букве будет соответствовать целое число от 0 до 9.\n",
    "\n",
    "Таким образом, каждая буква от 'A' до 'J' будет сопоставлена с соответствующим числом от 0 до 9."
   ]
  },
  {
   "cell_type": "code",
   "execution_count": 77,
   "metadata": {},
   "outputs": [
    {
     "name": "stdout",
     "output_type": "stream",
     "text": [
      "2\n",
      "\n",
      "A    0\n",
      "B    1\n",
      "dtype: int64\n",
      "\n",
      "A    0\n",
      "B    1\n",
      "C    2\n",
      "dtype: int64\n",
      "\n",
      "G    6\n",
      "H    7\n",
      "I    8\n",
      "J    9\n",
      "dtype: int64\n"
     ]
    }
   ],
   "source": [
    "print(ser.loc['C'])\n",
    "print()\n",
    "print(ser.loc[['A', 'B']])\n",
    "print()\n",
    "print(ser.loc['A':'C'])\n",
    "print()\n",
    "print(ser[ser > 5])"
   ]
  },
  {
   "cell_type": "code",
   "execution_count": 81,
   "metadata": {},
   "outputs": [
    {
     "data": {
      "text/plain": [
       "np.int64(45)"
      ]
     },
     "execution_count": 81,
     "metadata": {},
     "output_type": "execute_result"
    }
   ],
   "source": [
    "ser ** 2\n",
    "ser.sum()"
   ]
  },
  {
   "cell_type": "code",
   "execution_count": 83,
   "metadata": {},
   "outputs": [
    {
     "data": {
      "text/plain": [
       "A     4\n",
       "B     5\n",
       "C     6\n",
       "D     7\n",
       "E     8\n",
       "F     9\n",
       "G    10\n",
       "H    11\n",
       "I    12\n",
       "J    13\n",
       "dtype: int64"
      ]
     },
     "execution_count": 83,
     "metadata": {},
     "output_type": "execute_result"
    }
   ],
   "source": [
    "def increase_by_two(el):\n",
    "    return el + 2\n",
    "\n",
    "ser = ser.apply(increase_by_two)\n",
    "ser"
   ]
  },
  {
   "cell_type": "markdown",
   "metadata": {},
   "source": [
    "1. **`print(ser.loc['C'])`**:\n",
    "   - Эта строка выводит значение, соответствующее индексу `'C'`. В данном случае это будет `2`.\n",
    "\n",
    "2. **`print(ser.loc[['A', 'B']])`**:\n",
    "   - Здесь ты выводишь значения, соответствующие индексам `'A'` и `'B'`. \n",
    "\n",
    "3. **`print(ser.loc['A':'C'])`**:\n",
    "   - Эта строка выводит значения от индекса `'A'` до индекса `'C'` (включительно):\n",
    "\n",
    "4. **`print(ser[ser > 5])`**:\n",
    "   - Здесь ты выводишь значения, которые больше `5`.\n",
    "\n",
    "5. **`ser ** 2`**:\n",
    "   - Эта строка возводит каждый элемент `Series` в квадрат. Однако результат не сохраняется, и вывод не будет напечатан.\n",
    "\n",
    "6. **`ser.sum()`**:\n",
    "   - Суммирует все элементы в `ser`. Результат будет равен `0 + 1 + 2 + 3 + 4 + 5 + 6 + 7 + 8 + 9 = 45`.\n",
    "\n",
    "7. **`def increase_by_two(el): return el + 2`**:\n",
    "   - Определяется функция `increase_by_two`, которая увеличивает переданный элемент на 2.\n",
    "\n",
    "8. **`ser = ser.apply(increase_by_two)`**:\n",
    "    - Эта строка применяет функцию `increase_by_two` ко всем элементам `Series`, увеличивая каждое значение на 2. После этого `ser` будет содержать значения от `2` до `11`.\n",
    "\n",
    "Таким образом, код демонстрирует различные способы доступа и манипуляции с данными в объекте `Series`."
   ]
  }
 ],
 "metadata": {
  "kernelspec": {
   "display_name": "Python 3",
   "language": "python",
   "name": "python3"
  },
  "language_info": {
   "codemirror_mode": {
    "name": "ipython",
    "version": 3
   },
   "file_extension": ".py",
   "mimetype": "text/x-python",
   "name": "python",
   "nbconvert_exporter": "python",
   "pygments_lexer": "ipython3",
   "version": "3.12.6"
  }
 },
 "nbformat": 4,
 "nbformat_minor": 2
}
